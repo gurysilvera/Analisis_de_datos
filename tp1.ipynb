{
 "cells": [
  {
   "cell_type": "markdown",
   "id": "0872ba48",
   "metadata": {},
   "source": [
    "# Análisis de Ddatos\n",
    "## TP N 1\n",
    "----\n",
    "### Grupo N\n",
    "- Aviani, José\n",
    "- Díaz, José Luis\n",
    "- Silvera, Ricardo"
   ]
  },
  {
   "cell_type": "markdown",
   "id": "f12a8540",
   "metadata": {},
   "source": [
    "---\n",
    "## Introducción\n",
    "\n",
    "Para este trabajo elegimos el el dataset Precios Claros – Base SEPA, perteneciente al “Sistema Electrónico de Publicidad de Precios Argentinos (SEPA)\" (https://datos.gob.ar/), el cual reúne los precios de comercios minoristas (grandes establecimientos) de más de 70 mil productos en toda la Argentina. Particularmente para este trabajo, seleccionamos el set de datos del establecimiento **Carrefour** ya que era el de mayor tamaño, lo cual es deseable como entrada en un problema de aprendizaje de máquina.\n",
    "A continuación realizamos el análisis exploratorio de los datos y finalizamos con las conclusiones obtenidas del trabajo."
   ]
  },
  {
   "cell_type": "markdown",
   "id": "3c89b851",
   "metadata": {},
   "source": [
    "\n",
    "### Importación de librerías"
   ]
  },
  {
   "cell_type": "code",
   "execution_count": null,
   "id": "7bc199fa",
   "metadata": {},
   "outputs": [],
   "source": [
    "import pandas as pd\n",
    "import numpy as np\n",
    "import matplotlib.pyplot as plt\n",
    "import seaborn as sns\n",
    "from sklearn.preprocessing import LabelEncoder\n"
   ]
  },
  {
   "cell_type": "markdown",
   "id": "7c23b325",
   "metadata": {},
   "source": [
    "## Análisis Exploratorio de los Datos"
   ]
  },
  {
   "cell_type": "markdown",
   "id": "0a695a18",
   "metadata": {},
   "source": [
    "### Carga y comprensión de los datos\n",
    "Los datos están separados en 3 archivos\n",
    "- comercio\n",
    "- sucursales\n",
    "- productos\n",
    "\n",
    "Cada uno contiene información específica sobre la entidad que indica su nombre. Vamos a investigar a cada uno para comprender la información que contienen y como está organizada y unificar todos los datos que nos interesen en un único dataframe. "
   ]
  },
  {
   "cell_type": "markdown",
   "id": "3aab2600",
   "metadata": {},
   "source": [
    "### Comercio"
   ]
  },
  {
   "cell_type": "code",
   "execution_count": null,
   "id": "ec7747ed",
   "metadata": {},
   "outputs": [],
   "source": [
    "comercio=pd.read_csv('./dataset/comercio.csv',delimiter='|')\n",
    "# La ultima linea del dataset es solamente la fecha de actualizacion, por eso la borramos\n",
    "comercio = comercio.iloc[:-1]\n",
    "comercio.columns"
   ]
  },
  {
   "cell_type": "markdown",
   "id": "931bc90a",
   "metadata": {},
   "source": [
    "El dataframe **comercio** contiene solo 3 filas con información, mucha de la cuales son repetitiva y constante para nuestro caso que solo estudiaremos un solo comercio.\n",
    "\n",
    "- `id_comercio`: Es el identificador de comercio, como trabajaremos solo con Carefour este data será constante en todo el dataset.\n",
    "\n",
    "- `id_bandera`: Es de tipo numérico,  identifica el tipo de comercio cuya discreción en texto está en el campo comercio_bandera_nombre \n",
    "- `icomercio_cui`: Es de tipo numérico, contiene el numero de CUIT del comercio, constante para nuestro caso. \n",
    "- `comercio_razon_social`:  Es de tipo texto, contiene el la Razón Social del comercio, es constante para nuestro caso.\n",
    "- `comercio_bandera_nombre`: Contiene la descripción del tipo de comercio (Hipermercado Carrefeour, Express, Market). es la descripción del valor numérico del campo id_bandera.\n",
    "- `comercio_ultima_actualizacion`: Contiene la fecha y hora de la actualización del archivo. Es constante para nuestro caso ya que trabajaremos con un único archivo.\n",
    "- `comercio_version_sepa`: Es el numero de versión que indica la versión del modelo de datos del paquete SEPA.\n",
    "\n",
    "\n",
    "Las unicas columnas que tienen sentido en este caso son `id_bandera` y `comercio_bandera_nombre`, que nos permitiran entender el dimensión del tipo de sucursal."
   ]
  },
  {
   "cell_type": "code",
   "execution_count": null,
   "id": "edd4c367",
   "metadata": {},
   "outputs": [],
   "source": [
    "comercio.head()"
   ]
  },
  {
   "cell_type": "code",
   "execution_count": null,
   "id": "ca27dbb8",
   "metadata": {},
   "outputs": [],
   "source": [
    "# Nos quedamos con las columnas relevantes\n",
    "comercio.drop(columns=['id_comercio', 'comercio_cuit', 'comercio_razon_social', 'comercio_bandera_url','comercio_ultima_actualizacion', 'comercio_version_sepa'], inplace=True)\n",
    "# Hacemos un cambio de tipo a entero. Ya que es un identificador, tiene mas sentido que un float.\n",
    "comercio['id_bandera'] = comercio['id_bandera'].astype(int)\n",
    "comercio.head()"
   ]
  },
  {
   "cell_type": "markdown",
   "id": "22c90103",
   "metadata": {},
   "source": [
    "### Sucursales"
   ]
  },
  {
   "cell_type": "code",
   "execution_count": null,
   "id": "a65edc97",
   "metadata": {},
   "outputs": [],
   "source": [
    "sucursales=pd.read_csv('./dataset/sucursales.csv',delimiter='|')\n",
    "# La ultima linea del dataset es solamente la fecha de actualizacion, por eso la borramos\n",
    "sucursales = sucursales.iloc[:-1]\n",
    "sucursales.info()"
   ]
  },
  {
   "cell_type": "code",
   "execution_count": null,
   "id": "d5e35335",
   "metadata": {},
   "outputs": [],
   "source": [
    "# Los horarios de atencion no parecerian tener alguna utilidad a priori \n",
    "sucursales.drop(\n",
    "    columns = [\n",
    "        'sucursales_lunes_horario_atencion',\n",
    "        'sucursales_martes_horario_atencion',\n",
    "        'sucursales_miercoles_horario_atencion',\n",
    "        'sucursales_jueves_horario_atencion',\n",
    "        'sucursales_viernes_horario_atencion', \n",
    "        'sucursales_sabado_horario_atencion',\n",
    "        'sucursales_domingo_horario_atencion',\n",
    "    ], inplace=True)"
   ]
  },
  {
   "cell_type": "code",
   "execution_count": null,
   "id": "41dc7477",
   "metadata": {},
   "outputs": [],
   "source": [
    "sucursales['id_comercio'].unique()"
   ]
  },
  {
   "cell_type": "code",
   "execution_count": null,
   "id": "017beb47",
   "metadata": {},
   "outputs": [],
   "source": [
    "# Como id_comercio hace referencia al id de \"comercio.csv\", al ser unico para todas las sucursales no aporta nada de valor\n",
    "sucursales.drop(columns = ['id_comercio'], inplace=True)"
   ]
  },
  {
   "cell_type": "code",
   "execution_count": null,
   "id": "6fa9f409",
   "metadata": {},
   "outputs": [],
   "source": [
    "# Veamos si existe alguna relacion entre el id_bandera que vimos en comercio.csv y sucursales_tipo\n",
    "#\n",
    "# id_bandera=1 Hipermercado Carrefour\n",
    "# id_bandera=2 Market\n",
    "# id_bandera=3 Express\n",
    "\n",
    "# sucursales_tipo puede ser lo siguiente:\n",
    "# * Hipermercado: más de 15 cajas. \n",
    "# * Supermercado: entre 4 y 15 cajas. \n",
    "# * Autoservicio: entre 1 y 3 cajas. \n",
    "# * Tradicional: Mostrador sin línea de caja. \n",
    "# * Web\n",
    "\n",
    "# Veamos que tipos tenemos:\n",
    "sucursales['sucursales_tipo'].nunique()\n",
    "\n",
    "#sucursales_rows = sucursales[sucursales['sucursales_tipo'] == 'Hipermercado']\n",
    "#sucursales_rows['id_bandera'].unique()\n",
    "\n",
    "#sucursales.groupby('sucursales_tipo')['id_bandera'].unique()\n",
    "#sucursales['Hipermercado']\n",
    "\n",
    "\n",
    "\n"
   ]
  },
  {
   "cell_type": "code",
   "execution_count": null,
   "id": "8c0836e6",
   "metadata": {},
   "outputs": [],
   "source": [
    "sucursales.head()"
   ]
  },
  {
   "cell_type": "markdown",
   "id": "3b72b57b",
   "metadata": {},
   "source": []
  },
  {
   "cell_type": "markdown",
   "id": "e3112292",
   "metadata": {},
   "source": [
    "El archivo contiene información sobre las 563 sucursales del comercio\n",
    "\n",
    "#### Identificadores\n",
    "\n",
    "- `id_bandera`: Tipo de comercio, se relaciona con el campo de mismo nombre del archivo comercio\n",
    "\n",
    "- `id_sucursal`: Es de tipo numérico, es el identificador de la sucursal\n",
    "\n",
    "- `sucursales_nombre`: es de tipo texto, contine el nombre de la uscursal\n",
    "\n",
    "- `sucursales_tipo`: Es de tipo texto, indica el tipo de establecimiento (por ejemplo, Autoservicio, Supermercado).\n",
    "\n",
    "#### Ubicación\n",
    "- `sucursales_calle`: Es de tipo texto, representa el nombre de la calle donde está ubicada la sucursal.\n",
    "- `sucursales_numero`: Es de tipo numérico o texto, indica el número de la dirección de la sucursal.\n",
    "- `sucursales_latitud`: Es de tipo numérico, representa la coordenada de latitud de la ubicación geográfica de la sucursal.\n",
    "- `sucursales_longitud`: Es de tipo numérico, representa la coordenada de longitud de la ubicación geográfica de la sucursal.\n",
    "- `sucursales_observaciones`: Es de tipo texto, contiene observaciones o notas adicionales sobre la sucursal.\n",
    "- `sucursales_codigo_postal`: Es de tipo texto o numérico, representa el código postal correspondiente a la dirección de la sucursal.\n",
    "- `sucursales_localidad`: Es de tipo texto, indica la localidad o ciudad donde se encuentra la sucursal.\n",
    "- `sucursales_barrio`: Es de tipo texto, indica el barrio donde se encuentra ubicada la sucursal.\n",
    "- `sucursales_provincia`: Es de tipo texto, contine un código que indica la provincia a la que pertenece la sucursal.\n",
    "\n",
    "#### Horarios de atención\n",
    "- `sucursales_lunes_horario_atencion`: Es de tipo texto, indica el horario de atención al público durante los días lunes.\n",
    "- `sucursales_martes_horario_atencion`: Es de tipo texto, indica el horario de atención al público durante los días martes.\n",
    "- `sucursales_miercoles_horario_atencion`: Es de tipo texto, indica el horario de atención al público durante los días miércoles.\n",
    "- `sucursales_jueves_horario_atencion`: Es de tipo texto, indica el horario de atención al público durante los días jueves.\n",
    "- `sucursales_viernes_horario_atencion`: Es de tipo texto, indica el horario de atención al público durante los días viernes.\n",
    "- `sucursales_sabado_horario_atencion`: Es de tipo texto, indica el horario de atención al público durante los días sábados.\n",
    "- `sucursales_domingo_horario_atencion`: Es de tipo texto, indica el horario de atención al público durante los días domingos.\n",
    "\n",
    "Vamos a considerar todos los campos de este archivo"
   ]
  },
  {
   "cell_type": "markdown",
   "id": "ae8e3f18",
   "metadata": {},
   "source": [
    "### Productos"
   ]
  },
  {
   "cell_type": "code",
   "execution_count": null,
   "id": "3e466d66",
   "metadata": {},
   "outputs": [],
   "source": [
    "productos=pd.read_csv('./dataset/productos.csv.gz',delimiter='|',low_memory=False, compression='gzip')"
   ]
  },
  {
   "cell_type": "code",
   "execution_count": null,
   "id": "d6f723e5",
   "metadata": {},
   "outputs": [],
   "source": [
    "productos.info()"
   ]
  },
  {
   "cell_type": "code",
   "execution_count": null,
   "id": "48549355",
   "metadata": {},
   "outputs": [],
   "source": [
    "productos.head()"
   ]
  },
  {
   "cell_type": "markdown",
   "id": "0481831d",
   "metadata": {},
   "source": [
    "El archivo contiene 2.835.685 filas con información de los productos.\n",
    "\n",
    "#### Itentificadores\n",
    "\n",
    "-  `id_comercio ` : Es de tipo numérico, representa el identificador único del comercio al que pertenece el producto. Es constante para nuestro caso.\n",
    "\n",
    "-  `id_bandera `: Se refiere al tipo de comercio, y está relacionado con el campo  `id_bandera ` del archivo de comercio.\n",
    "-  `id_sucursal `: Es de tipo numérico, contiene el código de la sucursal específica dentro del comercio, se relaciona con el campo de mismo nommbre del archivo sucursales.\n",
    "-  `id_producto `: Es de tipo numérico, es el identificador único del producto para el comercio.\n",
    "-  `productos_ean `: Es de tipo numérico, representa el código EAN (European Article Number) del producto, utilizado como código de barras.\n",
    "-  `productos_descripcion `: Es de tipo texto, contiene la descripción comercial del producto.\n",
    "-  `productos_marca`: Es de tipo texto, indica el nombre de la marca comercial del producto.\n",
    "\n",
    "#### Unidades de medida y cantidades\n",
    "\n",
    "-  `productos_cantidad_presentacion `: Es de tipo numérico, indica la cantidad del producto contenida en la unidad.\n",
    "\n",
    "-  `productos_unidad_medida_presentacion `: Es de tipo texto, representa la unidad de medida de la presentación del producto.\n",
    "-  `productos_cantidad_referencia `: Es de tipo numérico, indica la cantidad de producto usada como base para calcular el precio de referencia.\n",
    "-  `productos_unidad_medida_referencia `: Es de tipo texto, representa la unidad de medida de la cantidad de referencia.\n",
    "\n",
    "#### Precios \n",
    "-  `productos_precio_lista` : Es de tipo numérico, representa el precio de lista del producto, es decir, el precio regular sin promociones.\n",
    "\n",
    "-  `productos_precio_referencia `: Es de tipo numérico, corresponde al precio de referencia.\n",
    "\n",
    "#### Promociones\n",
    "\n",
    "-  `productos_precio_unitario_promo1 `: Es de tipo numérico, indica el precio unitario del producto en la primera promoción (si existe).\n",
    "\n",
    "-  `productos_leyenda_promo1 `: Es de tipo texto, contiene la leyenda o descripción asociada a la primera promoción.\n",
    "-  `productos_precio_unitario_promo2 `: Es de tipo numérico, indica el precio unitario del producto en la segunda promoción (si existe).\n",
    "-  `productos_leyenda_promo2 `: Es de tipo texto, contiene la leyenda o descripción asociada a la segunda promoción."
   ]
  },
  {
   "cell_type": "code",
   "execution_count": null,
   "id": "f269bc7d",
   "metadata": {},
   "outputs": [],
   "source": [
    "#Se elimina la columna id_comercio\n",
    "productos.drop(columns='id_comercio')"
   ]
  },
  {
   "cell_type": "markdown",
   "id": "52fc54bf",
   "metadata": {},
   "source": [
    "Descartamos los datos del dataframe **comercio** ya que sus datos son constantes, excepto `id_bandera` y `comercio_bandera_nombre` que no son redundantes para nuestro estudio, ya que contamos con el campo `id_bandera` en el archivo sucursales.\n",
    "Unimos el dataframe de **productos** y **sucursales** para dejarlos en un solo objeto y poder analizar toda la información junta."
   ]
  },
  {
   "cell_type": "code",
   "execution_count": null,
   "id": "85e878a2",
   "metadata": {},
   "outputs": [],
   "source": [
    "datos= pd.merge(productos,sucursales,on='id_sucursal')\n",
    "datos.head()"
   ]
  },
  {
   "cell_type": "markdown",
   "id": "8b145798",
   "metadata": {},
   "source": [
    "### Resumen estadístico general\n",
    "\n"
   ]
  },
  {
   "cell_type": "code",
   "execution_count": null,
   "id": "f8d97c33",
   "metadata": {},
   "outputs": [],
   "source": [
    "datos.describe()"
   ]
  },
  {
   "cell_type": "markdown",
   "id": "14a31451",
   "metadata": {},
   "source": [
    "### Revisión de valores faltantes \n",
    "\n"
   ]
  },
  {
   "cell_type": "markdown",
   "id": "1236963d",
   "metadata": {},
   "source": [
    "### Análisis de tipos de variables\n",
    "\n"
   ]
  },
  {
   "cell_type": "markdown",
   "id": "6c5f960d",
   "metadata": {},
   "source": [
    "### Distribuciones\n",
    "Histogramas de variables numéricas\n",
    "\n",
    "Gráficos de barras para variables categóricas\n",
    "\n",
    "Boxplots para detectar outliers"
   ]
  },
  {
   "cell_type": "code",
   "execution_count": null,
   "id": "5396ee44",
   "metadata": {},
   "outputs": [],
   "source": [
    "datos['productos_precio_lista'].hist(bins=30)\n",
    "sns.boxplot(x=datos['productos_precio_lista'])"
   ]
  },
  {
   "cell_type": "markdown",
   "id": "32536a49",
   "metadata": {},
   "source": [
    "### Relación entre variables\n",
    "Matriz de correlación (df.corr())\n",
    "\n",
    "Gráficos de dispersión (sns.scatterplot())\n",
    "\n",
    "Agrupaciones y comparaciones por categorías (groupby())"
   ]
  },
  {
   "cell_type": "markdown",
   "id": "3ae56bcf",
   "metadata": {},
   "source": [
    "### Detección de outliers "
   ]
  },
  {
   "cell_type": "markdown",
   "id": "cb92c5b7",
   "metadata": {},
   "source": [
    "### Segmentación y agrupamientos"
   ]
  },
  {
   "cell_type": "markdown",
   "id": "59a7043c",
   "metadata": {},
   "source": [
    "---\n",
    "## Conclusiones"
   ]
  }
 ],
 "metadata": {
  "kernelspec": {
   "display_name": ".venv",
   "language": "python",
   "name": "python3"
  },
  "language_info": {
   "codemirror_mode": {
    "name": "ipython",
    "version": 3
   },
   "file_extension": ".py",
   "mimetype": "text/x-python",
   "name": "python",
   "nbconvert_exporter": "python",
   "pygments_lexer": "ipython3",
   "version": "3.11.7"
  }
 },
 "nbformat": 4,
 "nbformat_minor": 5
}
