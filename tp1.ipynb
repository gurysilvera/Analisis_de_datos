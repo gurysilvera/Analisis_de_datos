{
 "cells": [
  {
   "cell_type": "markdown",
   "id": "0872ba48",
   "metadata": {},
   "source": [
    "# Análisis de Datos\n",
    "## TP N 1\n",
    "----\n",
    "### Grupo N° 7\n",
    "- Aviani, José\n",
    "- Díaz, José Luis\n",
    "- Silvera, Ricardo"
   ]
  },
  {
   "cell_type": "markdown",
   "id": "302b7401",
   "metadata": {},
   "source": [
    "---\n",
    "## Introducción"
   ]
  },
  {
   "cell_type": "markdown",
   "id": "f12a8540",
   "metadata": {},
   "source": [
    "Para este trabajo elegimos el el dataset Precios Claros – Base SEPA, perteneciente al “Sistema Electrónico de Publicidad de Precios Argentinos (SEPA)\" (https://datos.gob.ar/), el cual reúne los precios de comercios minoristas (grandes establecimientos) de más de 70 mil productos en toda la Argentina. Particularmente para este trabajo, seleccionamos el set de datos del establecimiento **Carrefour** ya que era el de mayor tamaño, lo cual es deseable como entrada en un problema de aprendizaje de máquina.\n",
    "A continuación realizamos el análisis exploratorio de los datos y finalizamos con las conclusiones obtenidas del trabajo."
   ]
  },
  {
   "cell_type": "markdown",
   "id": "3c89b851",
   "metadata": {},
   "source": [
    "\n",
    "### Importación de librerías"
   ]
  },
  {
   "cell_type": "code",
   "execution_count": null,
   "id": "7bc199fa",
   "metadata": {},
   "outputs": [],
   "source": [
    "import pandas as pd\n",
    "import numpy as np\n",
    "import matplotlib.pyplot as plt\n",
    "import matplotlib.patches as mpatches\n",
    "import seaborn as sns\n",
    "import geopandas as gpd\n",
    "import matplotlib.pyplot as plt\n",
    "from shapely.geometry import Point\n",
    "import missingno as msno\n",
    "import scipy.stats as ss\n",
    "from scipy.stats import kurtosis"
   ]
  },
  {
   "cell_type": "markdown",
   "id": "7c23b325",
   "metadata": {},
   "source": [
    "## Análisis Exploratorio de los Datos"
   ]
  },
  {
   "cell_type": "markdown",
   "id": "0a695a18",
   "metadata": {},
   "source": [
    "### Carga y comprensión de los datos\n"
   ]
  },
  {
   "cell_type": "markdown",
   "id": "ec7eedbe",
   "metadata": {},
   "source": [
    "Los datos están separados en 3 archivos\n",
    "- comercio\n",
    "- sucursales\n",
    "- productos\n",
    "\n",
    "Cada uno contiene información específica sobre la entidad que indica su nombre. Vamos a investigar a cada uno para comprender la información que contienen y como está organizada y unificar todos los datos que nos interesen en un único dataframe. "
   ]
  },
  {
   "cell_type": "code",
   "execution_count": null,
   "id": "ec7747ed",
   "metadata": {},
   "outputs": [],
   "source": [
    "#Comercio\n",
    "comercio=pd.read_csv('./dataset/comercio.csv',delimiter='|')\n",
    "#Sucursales\n",
    "sucursales=pd.read_csv('./dataset/sucursales.csv',delimiter='|')\n",
    "#Productos\n",
    "productos=pd.read_csv('./dataset/productos.csv.gz', delimiter='|', compression='gzip', low_memory=False)\n",
    "\n",
    "# La ultima linea del achivo es solamente la fecha de actualizacion, por eso la borramos\n",
    "comercio = comercio.iloc[:-1]\n",
    "sucursales = sucursales.iloc[:-1]\n",
    "productos = productos.iloc[:-1]\n"
   ]
  },
  {
   "cell_type": "code",
   "execution_count": null,
   "id": "22c29449",
   "metadata": {},
   "outputs": [],
   "source": [
    "print(comercio.shape)\n",
    "print(comercio.info())\n",
    "print(comercio.head(25))"
   ]
  },
  {
   "cell_type": "code",
   "execution_count": null,
   "id": "1c86bc6e",
   "metadata": {},
   "outputs": [],
   "source": [
    "print(sucursales.shape)\n",
    "print(sucursales.info())"
   ]
  },
  {
   "cell_type": "code",
   "execution_count": null,
   "id": "c66056f5",
   "metadata": {},
   "outputs": [],
   "source": [
    "print(sucursales.head(25))"
   ]
  },
  {
   "cell_type": "code",
   "execution_count": null,
   "id": "99df2158",
   "metadata": {},
   "outputs": [],
   "source": [
    "print(sucursales['id_comercio'].unique())\n",
    "print(sucursales['id_bandera'].unique())"
   ]
  },
  {
   "cell_type": "markdown",
   "id": "788b6dba",
   "metadata": {},
   "source": [
    "Todas las sucursales perteneces al mismo comercio (el 10) pero a tres \"banderas\" diferentes, lo que es un poco curioso. De todas maneras, podemos concluir que 'id_comercio' no aporta ningún valor."
   ]
  },
  {
   "cell_type": "code",
   "execution_count": null,
   "id": "ca806174",
   "metadata": {},
   "outputs": [],
   "source": [
    "print(sucursales['id_sucursal'].unique().shape)"
   ]
  },
  {
   "cell_type": "markdown",
   "id": "e303d603",
   "metadata": {},
   "source": [
    "Verificamos que las sucursales son 563 y tienen esa misma cantidad de ids únicos: con esto descartamos algún problema ahí."
   ]
  },
  {
   "cell_type": "code",
   "execution_count": null,
   "id": "88cd982d",
   "metadata": {},
   "outputs": [],
   "source": [
    "print(productos.shape)\n",
    "print(productos.info())"
   ]
  },
  {
   "cell_type": "code",
   "execution_count": null,
   "id": "4ec433db",
   "metadata": {},
   "outputs": [],
   "source": [
    "print(productos.head(25))"
   ]
  },
  {
   "cell_type": "code",
   "execution_count": null,
   "id": "44336212",
   "metadata": {},
   "outputs": [],
   "source": [
    "print(productos['id_comercio'].unique())\n",
    "print(productos['id_bandera'].unique())"
   ]
  },
  {
   "cell_type": "markdown",
   "id": "b0f072ca",
   "metadata": {},
   "source": [
    "Respecto al comercio y la \"bandera\" verificamos los mismo que ya habíamos visto con el dataset sucursales."
   ]
  },
  {
   "cell_type": "code",
   "execution_count": null,
   "id": "a2ed6e40",
   "metadata": {},
   "outputs": [],
   "source": [
    "print(productos['id_sucursal'].unique().shape)"
   ]
  },
  {
   "cell_type": "markdown",
   "id": "c1673af3",
   "metadata": {},
   "source": [
    "También verificamos que al igual que el dataset sucursales tiene 563 ids de sucursal únicos. Falta verificar que en el dataset productos no haya ids de sucursales que no estén en el dataset sucursales."
   ]
  },
  {
   "cell_type": "code",
   "execution_count": null,
   "id": "e68bc7be",
   "metadata": {},
   "outputs": [],
   "source": [
    "# Cantidad de id de producto únicos\n",
    "print(productos['id_producto'].unique().shape)"
   ]
  },
  {
   "cell_type": "code",
   "execution_count": null,
   "id": "0a8d7437",
   "metadata": {},
   "outputs": [],
   "source": [
    "#Visualizamos las columnas de cada Dataframe\n",
    "print(\"Columnas de Comercio:\\n\",comercio.columns)\n",
    "print(\"Columnas de Sucursales:\\n\",sucursales.columns)\n",
    "print(\"Columnas de Productos:\\n\",productos.columns)"
   ]
  },
  {
   "cell_type": "markdown",
   "id": "5d48d6a4",
   "metadata": {},
   "source": [
    "Unimos los 3 dataframe en uno solo"
   ]
  },
  {
   "cell_type": "code",
   "execution_count": null,
   "id": "8a811abc",
   "metadata": {},
   "outputs": [],
   "source": [
    "comercio=comercio[['id_bandera','comercio_bandera_nombre']]\n",
    "datos=pd.merge(productos,pd.merge(comercio,sucursales,on=\"id_bandera\"),on='id_sucursal')"
   ]
  },
  {
   "cell_type": "code",
   "execution_count": null,
   "id": "04767f88",
   "metadata": {},
   "outputs": [],
   "source": [
    "print(datos.shape)"
   ]
  },
  {
   "cell_type": "markdown",
   "id": "b579f963",
   "metadata": {},
   "source": [
    "El total de filas del nuevo dataset es el mismo que el dataset productos: esto quiere decir que este último no tenía id de scurursal que no estuvieran en el dataset sucursales. "
   ]
  },
  {
   "cell_type": "markdown",
   "id": "89100a8e",
   "metadata": {},
   "source": [
    "Eliminamos las columnas que no son de interes de análisis"
   ]
  },
  {
   "cell_type": "code",
   "execution_count": null,
   "id": "dbfc9a7d",
   "metadata": {},
   "outputs": [],
   "source": [
    "datos.columns"
   ]
  },
  {
   "cell_type": "code",
   "execution_count": null,
   "id": "189661a9",
   "metadata": {},
   "outputs": [],
   "source": [
    "#Eliminar columnas\n",
    "datos=datos.drop(columns=['id_comercio_x','id_comercio_y','id_bandera_y',\n",
    "        'sucursales_lunes_horario_atencion',\n",
    "        'sucursales_martes_horario_atencion',\n",
    "        'sucursales_miercoles_horario_atencion',\n",
    "        'sucursales_jueves_horario_atencion',\n",
    "        'sucursales_viernes_horario_atencion',\n",
    "        'sucursales_sabado_horario_atencion',\n",
    "        'sucursales_domingo_horario_atencion'])\n",
    "datos.info()\n"
   ]
  },
  {
   "cell_type": "markdown",
   "id": "8d139d03",
   "metadata": {},
   "source": [
    "### Descripción de las columnas"
   ]
  },
  {
   "cell_type": "markdown",
   "id": "0ef60480",
   "metadata": {},
   "source": [
    "El archivo contiene 2.835.684 filas con información de los productos y sucursales.\n",
    "\n",
    "#### Itentificadores\n",
    "\n",
    "-  `id_comercio` : Es de tipo numérica, discreta, representa el identificador único del comercio al que pertenece el producto. Es constante para nuestro caso.\n",
    "\n",
    "-  `id_bandera`: Es de tipo categórica, nominal. Se refiere al tipo de comercio, y está relacionado con el campo  `id_bandera ` del archivo de comercio.\n",
    "-  `id_sucursal`: Es de tipo categórica nominal. Contiene el código de la sucursal específica dentro del comercio, se relaciona con el campo de mismo nommbre del archivo sucursales.\n",
    "-  `id_producto`: Es de tipo numérica, discreta. Es el identificador único del producto para el comercio.\n",
    "-  `productos_ean`: Es de tipo categórica, nominal. Indica si el campo id_producto contiene el código EAN (European Article Number) del producto.\n",
    "-  `productos_descripcion`: Es de tipo categórica, nominal. Contiene el nombre y descripción del producto.\n",
    "-  `productos_marca`: Es de tipo categórica, nominal. Contine el nombre de la marca comercial del producto.\n",
    "\n",
    "#### Sucursal\n",
    "\n",
    "- `sucursales_tipo`: Es de tipo texto, indica el tipo de establecimiento. Relacionado con la cantidad de cajas.\n",
    "\n",
    "- `comercio_bandera_nombre`:  Categórica, nominal.'Hipermercado Carrefour', 'Express' o 'Market'\n",
    "\n",
    "- `sucursales_calle`: Es de tipo categórica, nominal. Representa el nombre de la calle donde está ubicada la sucursal.\n",
    "- `sucursales_numero`: Es de tipo categórica, ordinal. Es el número de la dirección de la sucursal.\n",
    "- `sucursales_latitud`: Es de tipo categórica, nominal. Representa la coordenada de latitud de la ubicación geográfica de la sucursal.\n",
    "- `sucursales_longitud`: Es de tipo categórica, nominal. Representa la coordenada de longitud de la ubicación geográfica de la sucursal.\n",
    "- `sucursales_observaciones`: Es de tipo categórica, nominal. Contiene observaciones o notas adicionales sobre la sucursal.\n",
    "- `sucursales_codigo_postal`: Es de tipo categórica, nominal. Representa el código postal correspondiente a la dirección de la sucursal.\n",
    "- `sucursales_localidad`: Es de tipo categórica, nominal. Indica la localidad o ciudad donde se encuentra la sucursal.\n",
    "- `sucursales_barrio`: Es de tipo categórica, nominal. Indica el barrio donde se encuentra ubicada la sucursal.\n",
    "- `sucursales_provincia`: Es de tipo categórica, nominal. Contine un código que indica la provincia a la que pertenece la sucursal.\n",
    "\n",
    "#### Unidades de medida y cantidades\n",
    "\n",
    "-  `productos_cantidad_presentacion `: Es de tipo numérica, discreta. Indica la cantidad del producto contenida en la unidad.\n",
    "\n",
    "-  `productos_unidad_medida_presentacion `: Es de categórica, nominal. Representa la unidad de medida de la presentación del producto.\n",
    "-  `productos_cantidad_referencia `: Es de tipo numérica, discreta. indica la cantidad de producto usada como base para calcular el precio de referencia.\n",
    "-  `productos_unidad_medida_referencia `: Es de tipo categórica, nominal. Representa la unidad de medida de la cantidad de referencia.\n",
    "\n",
    "#### Precios \n",
    "-  `productos_precio_lista` : Es de tipo numérico, continua. Representa el precio de lista del producto, es decir, el precio regular sin promociones.\n",
    "\n",
    "-  `productos_precio_referencia `: Es de tipo numérico, cotinua. Corresponde al precio de referencia.\n",
    "\n",
    "#### Promociones\n",
    "\n",
    "-  `productos_precio_unitario_promo1 `: Es de tipo numérico, indica el precio unitario del producto en la primera promoción (si existe).\n",
    "\n",
    "-  `productos_leyenda_promo1 `: Es de tipo categórica, nominal. Contiene la leyenda o descripción asociada a la primera promoción.\n",
    "-  `productos_precio_unitario_promo2 `: Es de tipo numérica, continua. Indica el precio unitario del producto en la segunda promoción (si existe).\n",
    "-  `productos_leyenda_promo2 `: Es de tipo categórica, nominal. Contiene la leyenda o descripción asociada a la segunda promoción."
   ]
  },
  {
   "cell_type": "markdown",
   "id": "a3508331",
   "metadata": {},
   "source": [
    "### Vista general del dataset  "
   ]
  },
  {
   "cell_type": "code",
   "execution_count": null,
   "id": "63229190",
   "metadata": {},
   "outputs": [],
   "source": [
    "#Mostramos las primeras filas del dataset para una visualización de parcial de los datos\n",
    "datos.head()"
   ]
  },
  {
   "cell_type": "code",
   "execution_count": null,
   "id": "d364d07d",
   "metadata": {},
   "outputs": [],
   "source": [
    "#Visualizamos la primera fila del data set\n",
    "datos.iloc[0]"
   ]
  },
  {
   "cell_type": "code",
   "execution_count": null,
   "id": "16246536",
   "metadata": {},
   "outputs": [],
   "source": [
    "#Utilizando el método info que nos ofrese información de cantidad de filas, columnas, nombre de las columans y el tipo de datos que asignó Python a cada una. Tambien os indica la cantidad de memoria utilizada.\n",
    "datos.info()"
   ]
  },
  {
   "cell_type": "markdown",
   "id": "470297af",
   "metadata": {},
   "source": [
    "El dataset tiene:\n",
    "2.835.684 filas\n",
    "18 columnas\n",
    "Utiliza 822MB de memoria"
   ]
  },
  {
   "cell_type": "markdown",
   "id": "4f71f415",
   "metadata": {},
   "source": [
    "### Ajustes de tipos de datos"
   ]
  },
  {
   "cell_type": "markdown",
   "id": "8f0273c7",
   "metadata": {},
   "source": [
    "En la respuesta del método **info** observamos que Python asignón el tipo de dato **float64** a columnas que intuimos en base al nombre y su descripción que solo continen valores enteros. Vamos a comprobar si existen valores con decimales para estas columans antes de hacer la conversión a entero."
   ]
  },
  {
   "cell_type": "code",
   "execution_count": null,
   "id": "cda58c9b",
   "metadata": {},
   "outputs": [],
   "source": [
    "\n",
    "# Verificamos si el campo tiene valores decimales\n",
    "print(\"¿El campo productos_cantidad_presentacion tiene valores decimales?:\",datos['productos_cantidad_presentacion'].apply(float).mod(1).ne(0).any())\n",
    "print(\"¿El campo productos_cantidad_referencia tiene valores decimales?:\",datos['productos_cantidad_referencia'].apply(float).mod(1).ne(0).any())"
   ]
  },
  {
   "cell_type": "markdown",
   "id": "09eb3369",
   "metadata": {},
   "source": [
    "En base al resultado anterior y a la tipificación de los atributos categóricos en la descripción de las columnas, realizamos la conversión de tipos de datos correspondiente"
   ]
  },
  {
   "cell_type": "code",
   "execution_count": null,
   "id": "0d96c222",
   "metadata": {},
   "outputs": [],
   "source": [
    "### Ajustando los tipos de datos\n",
    "\n",
    "datos['id_bandera_x']=datos['id_bandera_x'].astype(int)\n",
    "datos['id_sucursal']=datos['id_sucursal'].astype(int)\n",
    "datos['id_sucursal']=datos['id_sucursal'].astype('category')\n",
    "datos['id_producto']=datos['id_producto'].astype(int)\n",
    "datos['productos_ean']=datos['productos_ean'].astype(bool)\n",
    "datos['productos_cantidad_presentacion']=datos['productos_cantidad_presentacion'].astype(int)\n",
    "datos['productos_cantidad_referencia']=datos['productos_cantidad_referencia'].astype(int)\n",
    "datos['productos_unidad_medida_presentacion']=datos['productos_unidad_medida_presentacion'].astype('category')\n",
    "datos['productos_unidad_medida_referencia']=datos['productos_unidad_medida_referencia'].astype('category')\n",
    "datos['productos_marca']=datos['productos_marca'].astype('category')\n",
    "datos['sucursales_nombre']=datos['sucursales_nombre'].astype('category')\n",
    "datos['sucursales_tipo']=datos['sucursales_tipo'].astype('category')\n",
    "datos['sucursales_barrio']=datos['sucursales_barrio'].astype('category')\n",
    "datos['sucursales_codigo_postal']=datos['sucursales_codigo_postal'].astype('category')\n",
    "datos['sucursales_localidad']=datos['sucursales_localidad'].astype('category')\n",
    "datos['sucursales_provincia']=datos['sucursales_provincia'].astype('category')\n"
   ]
  },
  {
   "cell_type": "code",
   "execution_count": null,
   "id": "970b6cc6",
   "metadata": {},
   "outputs": [],
   "source": [
    "#Cofirmamos que los cambios se hayan aplicado correctamente ejecutando nuevamente el método info\n",
    "datos.info()"
   ]
  },
  {
   "cell_type": "markdown",
   "id": "11b50783",
   "metadata": {},
   "source": [
    "### Variables categóricas: exploración\n",
    "\n"
   ]
  },
  {
   "cell_type": "markdown",
   "id": "161ad355",
   "metadata": {},
   "source": [
    "Las variables identificadas como categóricas son:\n",
    "- id_sucursal\n",
    "- productos_unidad_medida_presentacion\n",
    "- productos_marca\n",
    "- productos_unidad_medida_referencia\n",
    "- sucursales_nombre\n",
    "- sucursales_tipo\n",
    "- sucursales_barrio\n",
    "- sucursales_codigo_postal\n",
    "- sucursales_localidad\n",
    "- sucursales_provincia\n",
    "\n",
    "Todas son nominales."
   ]
  },
  {
   "cell_type": "code",
   "execution_count": null,
   "id": "3a980dae",
   "metadata": {},
   "outputs": [],
   "source": [
    "datos.describe(include='category')"
   ]
  },
  {
   "cell_type": "markdown",
   "id": "b65638a7",
   "metadata": {},
   "source": [
    "Listamos los valores únicos y la cantidad de cada una de las variables junto con gráficos que nos permitan visualizar mejor los valores:"
   ]
  },
  {
   "cell_type": "markdown",
   "id": "c00bef1b",
   "metadata": {},
   "source": [
    "id_sucursal: no hacemos ningún análisis particular de esta variable, lo que nos interesa es analizar la variable corelacionada sucursales_nombre"
   ]
  },
  {
   "cell_type": "markdown",
   "id": "8cc74d3d",
   "metadata": {},
   "source": [
    "productos_unidad_medida_presentacion:"
   ]
  },
  {
   "cell_type": "code",
   "execution_count": null,
   "id": "747a05c7",
   "metadata": {},
   "outputs": [],
   "source": [
    "print(datos['productos_unidad_medida_presentacion'].unique())\n",
    "sns.countplot(data=datos, x='productos_unidad_medida_presentacion', color=\"blue\")"
   ]
  },
  {
   "cell_type": "markdown",
   "id": "42da1e01",
   "metadata": {},
   "source": [
    "productos_marca:"
   ]
  },
  {
   "cell_type": "code",
   "execution_count": null,
   "id": "91aa4e07",
   "metadata": {},
   "outputs": [],
   "source": [
    "print(datos['productos_marca'].unique())"
   ]
  },
  {
   "cell_type": "markdown",
   "id": "d084b460",
   "metadata": {},
   "source": [
    "Son demasiados para poder graficarlos adecuadamente, así que listamos los 25 más frecuentes:"
   ]
  },
  {
   "cell_type": "code",
   "execution_count": null,
   "id": "4caa030e",
   "metadata": {},
   "outputs": [],
   "source": [
    "# Obtengo las 25 marcas con más productos/precios, la frecuencia y su porcentaje\n",
    "productos_marca = datos['productos_marca'].value_counts().reset_index()\n",
    "productos_marca.columns = ['productos_marca', 'frecuencia']\n",
    "productos_marca = productos_marca.sort_values(by=\"frecuencia\", ascending=False)\n",
    "productos_marca[\"porcentaje\"] = productos_marca[\"frecuencia\"] / productos_marca[\"frecuencia\"].sum() * 100\n",
    "productos_marca = productos_marca.head(25)\n",
    "\n",
    "print(productos_marca)"
   ]
  },
  {
   "cell_type": "markdown",
   "id": "844d75e8",
   "metadata": {},
   "source": [
    "Como vemos, el mayor porcentaje (8.56%) es de marca sin definir. Podemos ver que luego entre las más frecuentes siguen marcas de Carrefour, genéricas, 'Bulnez' y 'La Serenísima'. A partir de la marca séptima de mayor frecuencia, los porcentajes son menores que 1."
   ]
  },
  {
   "cell_type": "markdown",
   "id": "fd3ab666",
   "metadata": {},
   "source": [
    "productos_unidad_medida_referencia:"
   ]
  },
  {
   "cell_type": "code",
   "execution_count": null,
   "id": "39a7a884",
   "metadata": {},
   "outputs": [],
   "source": [
    "print(datos['productos_unidad_medida_referencia'].unique())\n",
    "sns.countplot(data=datos, x='productos_unidad_medida_referencia', color=\"blue\")"
   ]
  },
  {
   "cell_type": "markdown",
   "id": "18cfbff8",
   "metadata": {},
   "source": [
    "sucursales_nombre:"
   ]
  },
  {
   "cell_type": "code",
   "execution_count": null,
   "id": "ba480c5c",
   "metadata": {},
   "outputs": [],
   "source": [
    "print(datos['sucursales_nombre'].unique())"
   ]
  },
  {
   "cell_type": "markdown",
   "id": "0f130d06",
   "metadata": {},
   "source": [
    "Son demasiados para poder graficarlos adecuadamente, así que listamos los 25 más frecuentes:"
   ]
  },
  {
   "cell_type": "code",
   "execution_count": null,
   "id": "e4cf6af9",
   "metadata": {},
   "outputs": [],
   "source": [
    "# Obtengo las 25 sucursales con más productos/precios, la frecuencia y su porcentaje\n",
    "sucursales_nombre = datos['sucursales_nombre'].value_counts().reset_index()\n",
    "sucursales_nombre.columns = ['sucursales_nombre', 'frecuencia']\n",
    "sucursales_nombre = sucursales_nombre.sort_values(by=\"frecuencia\", ascending=False)\n",
    "sucursales_nombre[\"porcentaje\"] = sucursales_nombre[\"frecuencia\"] / sucursales_nombre[\"frecuencia\"].sum() * 100\n",
    "sucursales_nombre = sucursales_nombre.head(25)\n",
    "\n",
    "print(sucursales_nombre)"
   ]
  },
  {
   "cell_type": "markdown",
   "id": "bc02597f",
   "metadata": {},
   "source": [
    "Como podemos ver ninguna sucursal supera el 1% de frecuencia, lo que nos dice que tiene una distribución altamente dispersa."
   ]
  },
  {
   "cell_type": "markdown",
   "id": "2f7e8b86",
   "metadata": {},
   "source": [
    "sucursales_tipo:"
   ]
  },
  {
   "cell_type": "code",
   "execution_count": null,
   "id": "2bc5e994",
   "metadata": {},
   "outputs": [],
   "source": [
    "print(datos['sucursales_tipo'].unique())\n",
    "sns.countplot(data=datos, x='sucursales_tipo', color=\"blue\")"
   ]
  },
  {
   "cell_type": "markdown",
   "id": "29a9ac24",
   "metadata": {},
   "source": [
    "sucursales_barrio:"
   ]
  },
  {
   "cell_type": "code",
   "execution_count": null,
   "id": "fb9fed8a",
   "metadata": {},
   "outputs": [],
   "source": [
    "print(datos['sucursales_barrio'].unique())\n",
    "\n",
    "plt.figure(figsize=(6, 12)) \n",
    "sns.countplot(\n",
    "    data=datos,\n",
    "    y='sucursales_barrio',\n",
    "    order=datos['sucursales_barrio'].value_counts().index  # ordena de mayor a menor frecuencia\n",
    ")\n",
    "plt.tight_layout()\n",
    "plt.show()"
   ]
  },
  {
   "cell_type": "markdown",
   "id": "a6021455",
   "metadata": {},
   "source": [
    "sucursales_codigo_postal:"
   ]
  },
  {
   "cell_type": "code",
   "execution_count": null,
   "id": "3286cbc4",
   "metadata": {},
   "outputs": [],
   "source": [
    "print(datos['sucursales_codigo_postal'].unique())\n",
    "plt.figure(figsize=(6, 36)) \n",
    "sns.countplot(\n",
    "    data=datos,\n",
    "    y='sucursales_codigo_postal',\n",
    "    order=datos['sucursales_codigo_postal'].value_counts().index  # ordena de mayor a menor frecuencia\n",
    ")\n",
    "plt.tight_layout()\n",
    "plt.show()"
   ]
  },
  {
   "cell_type": "markdown",
   "id": "8a4b45b0",
   "metadata": {},
   "source": [
    "sucursales_localidad:"
   ]
  },
  {
   "cell_type": "code",
   "execution_count": null,
   "id": "3c5e241d",
   "metadata": {},
   "outputs": [],
   "source": [
    "print(datos['sucursales_localidad'].unique())\n",
    "plt.figure(figsize=(6, 24)) \n",
    "sns.countplot(\n",
    "    data=datos,\n",
    "    y='sucursales_localidad',\n",
    "    order=datos['sucursales_localidad'].value_counts().index  # ordena de mayor a menor frecuencia\n",
    ")\n",
    "plt.tight_layout()\n",
    "plt.show()"
   ]
  },
  {
   "cell_type": "markdown",
   "id": "b6cd220c",
   "metadata": {},
   "source": [
    "sucursales_provincia:"
   ]
  },
  {
   "cell_type": "code",
   "execution_count": null,
   "id": "26648e1b",
   "metadata": {},
   "outputs": [],
   "source": [
    "print(datos['sucursales_provincia'].unique())\n",
    "plt.figure(figsize=(6, 6)) \n",
    "sns.countplot(\n",
    "    data=datos,\n",
    "    y='sucursales_provincia',\n",
    "    order=datos['sucursales_provincia'].value_counts().index  # ordena de mayor a menor frecuencia\n",
    ")\n",
    "plt.tight_layout()\n",
    "plt.show()"
   ]
  },
  {
   "cell_type": "markdown",
   "id": "a6f12a48",
   "metadata": {},
   "source": [
    "### Variables numéricas: estadística descriptiva"
   ]
  },
  {
   "cell_type": "markdown",
   "id": "f83acedf",
   "metadata": {},
   "source": [
    "Las variables identificadas como numpericas son:\n",
    "- producto_cantidad_presentacion\n",
    "- productos_precio_lista\n",
    "- productos_cantidad_referencia\n",
    "- productos_precio_referencia\n"
   ]
  },
  {
   "cell_type": "markdown",
   "id": "8aeeb7c2",
   "metadata": {},
   "source": [
    "#### productos_cantidad_presentacion"
   ]
  },
  {
   "cell_type": "markdown",
   "id": "20fbe155",
   "metadata": {},
   "source": [
    "Utilizamos el método **describe** que nos muetra información sobre las principales medidas estadísticas de nuestro conjunto de datos"
   ]
  },
  {
   "cell_type": "code",
   "execution_count": null,
   "id": "ae08248e",
   "metadata": {},
   "outputs": [],
   "source": [
    "print(datos['productos_cantidad_presentacion'].describe())"
   ]
  },
  {
   "cell_type": "markdown",
   "id": "48a7fe42",
   "metadata": {},
   "source": [
    "Todos los valores de esta columna son igual a 1. No aporta información."
   ]
  },
  {
   "cell_type": "markdown",
   "id": "c7586a58",
   "metadata": {},
   "source": [
    "#### productos_precio_lista"
   ]
  },
  {
   "cell_type": "code",
   "execution_count": null,
   "id": "7898595d",
   "metadata": {},
   "outputs": [],
   "source": [
    "datos['productos_precio_lista'].describe()"
   ]
  },
  {
   "cell_type": "code",
   "execution_count": null,
   "id": "5d0babb9",
   "metadata": {},
   "outputs": [],
   "source": [
    "sns.histplot(datos['productos_precio_lista'], kde=False, bins=60)\n",
    "plt.title('Distribución de precios de lista')\n",
    "plt.xlabel('Precio de lista')\n",
    "plt.ylabel('Frecuencia')\n",
    "plt.show()"
   ]
  },
  {
   "cell_type": "code",
   "execution_count": null,
   "id": "beb88bed",
   "metadata": {},
   "outputs": [],
   "source": [
    "print(f\"La varianza del precio de lista es: {datos['productos_precio_lista'].var()}\")"
   ]
  },
  {
   "cell_type": "markdown",
   "id": "0544d950",
   "metadata": {},
   "source": [
    "Al analizar la variable productos_precio_lista, se observó una alta dispersión en los valores, con presencia de valores atípicos que afectan la visualización y el análisis estadístico. Para obtener una representación más clara y enfocada en el comportamiento general de los precios, se decidió filtrar los datos hasta el percentil 95. Es decir, se excluyó el 5% de los precios más altos, que representan casos extremos poco frecuentes.\n",
    "\n",
    "Este filtrado permite visualizar de forma más precisa la distribución de los precios y calcular medidas estadísticas representativas del conjunto principal de los datos. A continuación, se presenta un histograma que muestra la distribución de precios de lista hasta el percentil 95, incluyendo líneas de referencia para la media, la mediana y la moda."
   ]
  },
  {
   "cell_type": "code",
   "execution_count": null,
   "id": "4282c1fc",
   "metadata": {},
   "outputs": [],
   "source": [
    "# Calculamos el percentil 95 y filtramos los datos\n",
    "p95 = datos['productos_precio_lista'].quantile(0.95)\n",
    "df_filtrado = datos[datos['productos_precio_lista'] <= p95]\n",
    "\n",
    "# Calcular medidas estadísticas\n",
    "media = df_filtrado['productos_precio_lista'].mean()\n",
    "mediana = df_filtrado['productos_precio_lista'].median()\n",
    "moda = df_filtrado['productos_precio_lista'].mode().iloc[0]  # solo la primera moda\n",
    "\n",
    "# Crear el histograma\n",
    "sns.histplot(df_filtrado['productos_precio_lista'], kde=True, bins=60)\n",
    "plt.title('Distribución de precios (hasta percentil 95)')\n",
    "plt.xlabel('Precio de lista')\n",
    "plt.ylabel('Frecuencia')\n",
    "\n",
    "# Agregar líneas verticales para media, mediana y moda\n",
    "plt.axvline(media, color='blue', linestyle='--', label=f'Media: {media:.2f}')\n",
    "plt.axvline(mediana, color='green', linestyle='--', label=f'Mediana: {mediana:.2f}')\n",
    "plt.axvline(moda, color='orange', linestyle='--', label=f'Moda: {moda:.2f}')\n",
    "\n",
    "# Mostrar leyenda\n",
    "plt.legend()\n",
    "plt.show()"
   ]
  },
  {
   "cell_type": "markdown",
   "id": "5f9f7763",
   "metadata": {},
   "source": [
    "**Skewness**"
   ]
  },
  {
   "cell_type": "markdown",
   "id": "b8229354",
   "metadata": {},
   "source": [
    "Como se puede apreciar en el gráfico, la distribución de esta variable presenta una **asimetría positiva**. Calculamos la métrica **Skewness** basada en la fórmula de Fisher-Pearson de tercer momento central estandarizado.\n",
    "\n",
    "$$\n",
    "\\text{Skewness} = \\frac{n}{(n - 1)(n - 2)} \\sum_{i=1}^{n} \\left( \\frac{x_i - \\bar{x}}{s} \\right)^3\n",
    "$$"
   ]
  },
  {
   "cell_type": "code",
   "execution_count": null,
   "id": "44fd9898",
   "metadata": {},
   "outputs": [],
   "source": [
    "#Para toda la muetra\n",
    "print(f\"Skewness = {datos['productos_precio_lista'].skew()}\")"
   ]
  },
  {
   "cell_type": "code",
   "execution_count": null,
   "id": "e1a9e463",
   "metadata": {},
   "outputs": [],
   "source": [
    "#para el percentil 95\n",
    "print(f\"Skewness = {df_filtrado['productos_precio_lista'].skew()}\")\n"
   ]
  },
  {
   "cell_type": "markdown",
   "id": "0c2e45fe",
   "metadata": {},
   "source": [
    "En ambos casos el valor es >>1, lo que se considera altamente asimétrica positiva."
   ]
  },
  {
   "cell_type": "markdown",
   "id": "7be210f1",
   "metadata": {},
   "source": [
    "**Curtosis en exceso**"
   ]
  },
  {
   "cell_type": "markdown",
   "id": "4a0fc16c",
   "metadata": {},
   "source": [
    "\n",
    "Indica cuántos datos hay en las “colas” de las distribución y (generalmente) que tan afilado o plano es el pico comparado con una Normal.\n",
    "$$\n",
    "\\text{CurtosisExceso} = \\frac{1}{n - 1} \\sum \\left( \\frac{x_i - \\bar{x}}{s} \\right)^4 - 3\n",
    "$$\n"
   ]
  },
  {
   "cell_type": "code",
   "execution_count": null,
   "id": "8b7da6ba",
   "metadata": {},
   "outputs": [],
   "source": [
    "\n",
    "k = df_filtrado['productos_precio_lista'].kurt()\n",
    "\n",
    "print(f\"Curtosis en exceso:{k}\")"
   ]
  },
  {
   "cell_type": "markdown",
   "id": "c5954c4b",
   "metadata": {},
   "source": [
    "El resultado es mayor que cero, por lo que se denomina **leptocúrtica**"
   ]
  },
  {
   "cell_type": "markdown",
   "id": "bd0eb84a",
   "metadata": {},
   "source": [
    "#### productos_cantidad_referencia"
   ]
  },
  {
   "cell_type": "code",
   "execution_count": null,
   "id": "097a67e4",
   "metadata": {},
   "outputs": [],
   "source": [
    "datos['productos_cantidad_referencia'].describe()"
   ]
  },
  {
   "cell_type": "code",
   "execution_count": null,
   "id": "8c4d4baa",
   "metadata": {},
   "outputs": [],
   "source": [
    "#Filtramos los datos con catidades menor a 2500 para elimiar los datos muy alejados y apreciar mejor el histograma\n",
    "plt.figure(figsize=(8, 5))\n",
    "cantidades_referencia= datos[datos['productos_cantidad_referencia']<2500]\n",
    "plt.hist(cantidades_referencia['productos_cantidad_referencia'], bins=60, color='skyblue', edgecolor='black')\n",
    "plt.title('Histograma de Precios (95% inferior)')\n",
    "plt.xlabel('Precio')\n",
    "plt.ylabel('Frecuencia')\n",
    "plt.grid(True)\n",
    "plt.show()"
   ]
  },
  {
   "cell_type": "markdown",
   "id": "65784b17",
   "metadata": {},
   "source": [
    "#### productos_precio_referencia"
   ]
  },
  {
   "cell_type": "code",
   "execution_count": null,
   "id": "4c16a021",
   "metadata": {},
   "outputs": [],
   "source": [
    "datos['productos_precio_referencia'].describe()"
   ]
  },
  {
   "cell_type": "code",
   "execution_count": null,
   "id": "c5a77872",
   "metadata": {},
   "outputs": [],
   "source": [
    "sns.histplot(datos['productos_precio_referencia'], kde=False, bins=60)\n",
    "plt.title('Distribución de precios de referencia')\n",
    "plt.xlabel('Precio de referencia')\n",
    "plt.ylabel('Frecuencia')\n",
    "plt.show()"
   ]
  },
  {
   "cell_type": "code",
   "execution_count": null,
   "id": "dcf3586b",
   "metadata": {},
   "outputs": [],
   "source": [
    "print(f\"La varianza del precio de referencia es: {datos['productos_precio_referencia'].var()}\")"
   ]
  },
  {
   "cell_type": "markdown",
   "id": "1f6fba48",
   "metadata": {},
   "source": [
    "La varianza del precio de referncia es aún mayor que el del precio de lista. Filtramos hasta el percentil 95"
   ]
  },
  {
   "cell_type": "code",
   "execution_count": null,
   "id": "8d684054",
   "metadata": {},
   "outputs": [],
   "source": [
    "# Calculamos el percentil 95 y filtramos los datos\n",
    "p95 = datos['productos_precio_referencia'].quantile(0.95)\n",
    "df_filtrado = datos[datos['productos_precio_referencia'] <= p95]\n",
    "\n",
    "# Calcular medidas estadísticas\n",
    "media = df_filtrado['productos_precio_referencia'].mean()\n",
    "mediana = df_filtrado['productos_precio_referencia'].median()\n",
    "moda = df_filtrado['productos_precio_referencia'].mode().iloc[0]  # solo la primera moda\n",
    "\n",
    "# Crear el histograma\n",
    "sns.histplot(df_filtrado['productos_precio_referencia'], kde=True, bins=60)\n",
    "plt.title('Distribución de precios (hasta percentil 95)')\n",
    "plt.xlabel('Precio de lista')\n",
    "plt.ylabel('Frecuencia')\n",
    "\n",
    "# Agregar líneas verticales para media, mediana y moda\n",
    "plt.axvline(media, color='blue', linestyle='--', label=f'Media: {media:.2f}')\n",
    "plt.axvline(mediana, color='green', linestyle='--', label=f'Mediana: {mediana:.2f}')\n",
    "plt.axvline(moda, color='orange', linestyle='--', label=f'Moda: {moda:.2f}')\n",
    "\n",
    "# Mostrar leyenda\n",
    "plt.legend()\n",
    "plt.show()"
   ]
  },
  {
   "cell_type": "markdown",
   "id": "340d653c",
   "metadata": {},
   "source": [
    "**Skewness**"
   ]
  },
  {
   "cell_type": "code",
   "execution_count": null,
   "id": "a7cdcc49",
   "metadata": {},
   "outputs": [],
   "source": [
    "#Para toda la muetra\n",
    "print(f\"Skewness = {datos['productos_precio_referencia'].skew()}\")"
   ]
  },
  {
   "cell_type": "code",
   "execution_count": null,
   "id": "401a1d92",
   "metadata": {},
   "outputs": [],
   "source": [
    "#para el percentil 95\n",
    "print(f\"Skewness = {df_filtrado['productos_precio_referencia'].skew()}\")\n"
   ]
  },
  {
   "cell_type": "markdown",
   "id": "b2e5b9e4",
   "metadata": {},
   "source": [
    "En ambos casos el vaaor es >>1, lo que se considera altamente asimétrica positiva."
   ]
  },
  {
   "cell_type": "markdown",
   "id": "bc180677",
   "metadata": {},
   "source": [
    "**Curtosis en exceso**\n"
   ]
  },
  {
   "cell_type": "code",
   "execution_count": null,
   "id": "53bda51c",
   "metadata": {},
   "outputs": [],
   "source": [
    "\n",
    "k = df_filtrado['productos_precio_referencia'].kurt()\n",
    "\n",
    "print(f\"Curtosis en exceso:{k}\")"
   ]
  },
  {
   "cell_type": "markdown",
   "id": "ac72bea8",
   "metadata": {},
   "source": [
    "El resultado es mayor que cero, por lo que se denomina **leptocúrtica**"
   ]
  },
  {
   "cell_type": "markdown",
   "id": "e82149fd",
   "metadata": {},
   "source": [
    "#### coordenadas geográficas"
   ]
  },
  {
   "cell_type": "markdown",
   "id": "b0d43ef3",
   "metadata": {},
   "source": [
    "Vamos a visializar las sucursales de los comercios en el mapa de Argenina"
   ]
  },
  {
   "cell_type": "code",
   "execution_count": null,
   "id": "4cf11ce6",
   "metadata": {},
   "outputs": [],
   "source": [
    "# Usaremos un archivo GeoJSON libre para generar el mapa de Argentina \n",
    "\n",
    "url_argentina = 'https://raw.githubusercontent.com/datasets/geo-countries/master/data/countries.geojson'\n",
    "world = gpd.read_file(url_argentina)\n",
    "# Filtrar solo Argentina\n",
    "argentina = world[world['name'] == 'Argentina']\n",
    "#Agrupamos los datos por código de sucursal y contamos la cantidad de prouctos de cada una\n",
    "productos_por_sucursal=datos.groupby('id_sucursal').agg(\n",
    "    {   'id_sucursal':'first',\n",
    "        'comercio_bandera_nombre':'first',\n",
    "        'sucursales_tipo':'first',\n",
    "        'sucursales_latitud': 'first',\n",
    "        'sucursales_longitud': 'first',\n",
    "        'comercio_bandera_nombre': 'first',\n",
    "        'id_bandera_x':'first',\n",
    "        'id_producto': 'count' \n",
    "    }\n",
    ")\n",
    "#Generamos la s estructuras de datos necesarias de entrada para renderizar el mapa\n",
    "sucursales_id=productos_por_sucursal['id_sucursal'].to_list()\n",
    "coordenadas=list(zip(productos_por_sucursal['sucursales_longitud'],productos_por_sucursal['sucursales_latitud']))\n",
    "#Creamos un mapa de color en base a los valores del campo id_bandera_x (1,2,3) que determina si el comercio es un Hipermercado, Market o Express\n",
    "norm = plt.Normalize(vmin=1, vmax=3)\n",
    "cmap = plt.get_cmap('viridis')  #\n",
    "\n",
    "colores = [cmap(norm(val)) for val in productos_por_sucursal['id_bandera_x']]\n",
    "\n",
    "escalar=productos_por_sucursal['id_producto'].max()/100\n",
    "sizes=[int(val/escalar) for val in productos_por_sucursal['id_producto']]\n",
    "\n",
    "\n",
    "productos_por_sucursal.head()\n",
    "\n",
    "# Convertir a GeoDataFrame\n",
    "puntos = gpd.GeoDataFrame(\n",
    "    {'pv': sucursales_id},\n",
    "    geometry=[Point(lon, lat) for lon, lat in coordenadas],\n",
    "    crs='EPSG:4326'  # Sistema de coordenadas WGS84\n",
    ")\n",
    "patches = [\n",
    "    mpatches.Patch(color=cmap(norm(1)), label='Hipermercado'),\n",
    "    mpatches.Patch(color=cmap(norm(2)), label='Market'),\n",
    "    mpatches.Patch(color=cmap(norm(3)), label='Express')\n",
    "]\n",
    "\n",
    "# Generar el gráfico\n",
    "ax = argentina.plot(figsize=(20, 20), color='white', edgecolor='black')\n",
    "puntos.plot(ax=ax, color=colores, marker='o', markersize=sizes)\n",
    "plt.title(\"Sucursales Carrefour en Argentina\")\n",
    "plt.legend(handles=patches, loc='upper right')\n",
    "plt.show()"
   ]
  },
  {
   "cell_type": "markdown",
   "id": "d97969f8",
   "metadata": {},
   "source": [
    "El gráfico muestra la ubicación geográfica de las sucursales diferenciados por tipo de sucursal según el color. La dimensión de los puntos indica la cantidad de productos que se venden en esa sucursal. "
   ]
  },
  {
   "cell_type": "markdown",
   "id": "366fda3a",
   "metadata": {},
   "source": [
    "### Visualizaciones entre pares de variables\n"
   ]
  },
  {
   "cell_type": "markdown",
   "id": "ab3315f3",
   "metadata": {},
   "source": [
    "Investigamos relaciónes entre variables para descubir dependencias o relaciones entre ellas. Principalmente la variable precio_lista con el resto que es el target de nuestro problema."
   ]
  },
  {
   "cell_type": "markdown",
   "id": "6d1abb91",
   "metadata": {},
   "source": [
    "Calculamos, mostramos y graficamos la matriz de correlación entre las variables más relevantes para detectar relaciones:"
   ]
  },
  {
   "cell_type": "code",
   "execution_count": null,
   "id": "10afd023",
   "metadata": {},
   "outputs": [],
   "source": [
    "#Declaramos funciones para calcular la matriz de correlación\n",
    "\n",
    "def cramers_v(x, y):\n",
    "    confusion_matrix = pd.crosstab(x, y)\n",
    "    chi2 = ss.chi2_contingency(confusion_matrix)[0]\n",
    "    n = confusion_matrix.sum().sum()\n",
    "    phi2 = chi2 / n\n",
    "    r, k = confusion_matrix.shape\n",
    "    phi2corr = max(0, phi2 - ((k - 1) * (r - 1)) / (n - 1))\n",
    "    rcorr = r - ((r - 1) ** 2) / (n - 1)\n",
    "    kcorr = k - ((k - 1) ** 2) / (n - 1)\n",
    "    return np.sqrt(phi2corr / min((kcorr - 1), (rcorr - 1))) if n > 1 else 0\n",
    "\n",
    "def eta_squared(cat, num):\n",
    "    groups = [num[cat == c] for c in cat.unique()]\n",
    "    if len(groups) < 2:\n",
    "        return 0\n",
    "    fvalue, _ = ss.f_oneway(*groups)\n",
    "    eta = fvalue * (len(cat) - len(groups)) / (fvalue * (len(cat) - len(groups)) + len(cat) - 1)\n",
    "    return eta\n",
    "\n",
    "def mixed_correlation_matrix(df):\n",
    "    num_cols = df.select_dtypes(include=np.number).columns\n",
    "    cat_cols = df.select_dtypes(include=['object', 'category', 'bool']).columns\n",
    "    all_cols = list(num_cols) + list(cat_cols)\n",
    "    \n",
    "    corr_matrix = pd.DataFrame(np.nan, index=all_cols, columns=all_cols)\n",
    "    \n",
    "    corr_numeric = df[num_cols].corr()\n",
    "    corr_matrix.loc[num_cols, num_cols] = corr_numeric\n",
    "    \n",
    "    for c1 in cat_cols:\n",
    "        for c2 in cat_cols:\n",
    "            if c1 == c2:\n",
    "                corr_matrix.loc[c1, c2] = 1.0\n",
    "            else:\n",
    "                corr_matrix.loc[c1, c2] = cramers_v(df[c1], df[c2])\n",
    "    \n",
    "    for c1 in cat_cols:\n",
    "        for c2 in num_cols:\n",
    "            val = eta_squared(df[c1], df[c2])\n",
    "            corr_matrix.loc[c1, c2] = val\n",
    "            corr_matrix.loc[c2, c1] = val\n",
    "    \n",
    "    return corr_matrix"
   ]
  },
  {
   "cell_type": "code",
   "execution_count": null,
   "id": "f2e3ca03",
   "metadata": {},
   "outputs": [],
   "source": [
    "# Seleccionamos las variables más relevantes\n",
    "ds_corr = datos[['id_bandera_x', 'id_sucursal', 'id_producto', 'productos_cantidad_presentacion', 'productos_unidad_medida_presentacion', 'productos_marca',\n",
    "                 'productos_precio_lista', 'productos_precio_referencia', 'productos_cantidad_referencia', 'productos_unidad_medida_referencia',\n",
    "                 'productos_precio_unitario_promo1', 'productos_precio_unitario_promo2', 'sucursales_tipo', 'sucursales_barrio', 'sucursales_localidad', 'sucursales_provincia']]\n",
    "\n",
    "\n",
    "#Calculamos y mostramos la matriz de correlación\n",
    "corr_mixta = mixed_correlation_matrix(ds_corr)\n",
    "print(corr_mixta)\n",
    "\n",
    "#Graficamos\n",
    "plt.figure(figsize=(10, 8))\n",
    "sns.heatmap(corr_mixta, annot=True, fmt=\".2f\", cmap=\"coolwarm\", center=0, vmin=0, vmax=1)\n",
    "plt.title(\"Matriz de correlación\")\n",
    "plt.xticks(rotation=45, ha='right')\n",
    "plt.tight_layout()\n",
    "plt.show()"
   ]
  },
  {
   "cell_type": "markdown",
   "id": "03f136e2",
   "metadata": {},
   "source": [
    "Nos interesa identificar los valores cercanos a 1 que muestran una relacion directa y cercanos a -1 que muestran una relacion inversa. Hay variables fuertemente relacionadas que en realidad nos interesan: por ejemplo variables entre sí misimas, sucursal con localidad, producto y marca, etc.\n",
    "\n"
   ]
  },
  {
   "cell_type": "markdown",
   "id": "a62a4e43",
   "metadata": {},
   "source": [
    "Ahora mostramos gráficos de dispersión entre variables relacionadas que nos parecen interesantes de entender mejor.\n",
    "\n",
    "En algunos casos utilizamos los ids en lugar de los nombres y descripciones porque son muchos datos que no se visualizan adecuadamente y demoran mucho. Con los ids igual podemos hacernos una idea de la relacion entre las variables.\n",
    "\n"
   ]
  },
  {
   "cell_type": "code",
   "execution_count": null,
   "id": "cf37a1c1",
   "metadata": {},
   "outputs": [],
   "source": [
    "plt.figure(figsize=(16, 16))\n",
    "sns.scatterplot(data=datos, x='id_producto', y='id_sucursal')\n",
    "plt.title(\"Relación entre producto y sucursal\")\n",
    "plt.show()"
   ]
  },
  {
   "cell_type": "code",
   "execution_count": null,
   "id": "0df8af2a",
   "metadata": {},
   "outputs": [],
   "source": [
    "plt.figure(figsize=(16, 16))\n",
    "sns.scatterplot(data=datos, x='productos_precio_lista', y='productos_precio_unitario_promo1')\n",
    "plt.title(\"Relación entre precio y precio promo\")\n",
    "plt.show()"
   ]
  },
  {
   "cell_type": "code",
   "execution_count": null,
   "id": "b97cac01",
   "metadata": {},
   "outputs": [],
   "source": [
    "plt.figure(figsize=(16, 16))\n",
    "sns.scatterplot(data=datos, x='productos_precio_lista', y='id_sucursal')\n",
    "plt.title(\"Relación entre precio y sucursal\")\n",
    "plt.show()"
   ]
  },
  {
   "cell_type": "code",
   "execution_count": null,
   "id": "bdb216ea",
   "metadata": {},
   "outputs": [],
   "source": [
    "plt.figure(figsize=(16, 16))\n",
    "sns.scatterplot(data=datos, x='productos_precio_lista', y='productos_marca')\n",
    "plt.title(\"Relación entre precio y marca\")\n",
    "plt.yticks([])\n",
    "plt.show()"
   ]
  },
  {
   "cell_type": "code",
   "execution_count": null,
   "id": "4ec32170",
   "metadata": {},
   "outputs": [],
   "source": [
    "plt.figure(figsize=(16, 2))\n",
    "sns.scatterplot(data=datos, x='productos_precio_lista', y='sucursales_tipo')\n",
    "plt.title(\"Relación entre precio y tipo de sucursal\")\n",
    "plt.show()"
   ]
  },
  {
   "cell_type": "code",
   "execution_count": null,
   "id": "30cea459",
   "metadata": {},
   "outputs": [],
   "source": [
    "plt.figure(figsize=(16, 10))\n",
    "sns.scatterplot(data=datos, x='productos_precio_lista', y='sucursales_provincia')\n",
    "plt.title(\"Relación entre precio y provincia\")\n",
    "plt.show()"
   ]
  },
  {
   "cell_type": "code",
   "execution_count": null,
   "id": "c0df5173",
   "metadata": {},
   "outputs": [],
   "source": [
    "plt.figure(figsize=(16, 16))\n",
    "sns.scatterplot(data=datos, x='productos_precio_lista', y='sucursales_localidad')\n",
    "plt.title(\"Relación entre precio y localidad\")\n",
    "plt.yticks([])\n",
    "plt.show()"
   ]
  },
  {
   "cell_type": "markdown",
   "id": "30803c87",
   "metadata": {},
   "source": [
    "Por último agrupamos y hacemos comparaciones por categorías entre variables relacionadas que nos parecen interesantes de entender mejor.\n",
    "\n",
    "Si bien por el tipo de dateset estos gráficos no aportan todo el valor que sí tienen para otros tipos de datasets, visualizarnos nos ayudan a enter un poco mejor algunas rlaciones."
   ]
  },
  {
   "cell_type": "code",
   "execution_count": null,
   "id": "e320cb38",
   "metadata": {},
   "outputs": [],
   "source": [
    "plt.figure(figsize=(8, 8))\n",
    "(datos.groupby(['id_sucursal'], observed=True)['productos_precio_lista'].mean().sort_values().plot(kind='barh', colormap='Pastel2' , title='Precios por sucursal'))\n",
    "plt.yticks([])\n",
    "plt.show()"
   ]
  },
  {
   "cell_type": "markdown",
   "id": "a337ea1b",
   "metadata": {},
   "source": [
    "Vemos una distribución curiosa de precios si agrupamos por sucursal: necesitamos entender mejor esta relación."
   ]
  },
  {
   "cell_type": "code",
   "execution_count": null,
   "id": "5c15b816",
   "metadata": {},
   "outputs": [],
   "source": [
    "plt.figure(figsize=(16, 16))\n",
    "(datos.groupby(['productos_marca'], observed=True)['productos_precio_lista'].mean().sort_values().plot(kind='barh', colormap='Pastel2' , title='Precios por marca'))\n",
    "plt.yticks([])\n",
    "plt.show()"
   ]
  },
  {
   "cell_type": "code",
   "execution_count": null,
   "id": "86d6c957",
   "metadata": {},
   "outputs": [],
   "source": [
    "plt.figure(figsize=(4, 4))\n",
    "(datos.groupby(['sucursales_tipo'], observed=True)['productos_precio_lista'].mean().sort_values().plot(kind='barh', colormap='Pastel2' , title='Precios por tipo de sucursal'))\n",
    "plt.show()"
   ]
  },
  {
   "cell_type": "code",
   "execution_count": null,
   "id": "2f89052a",
   "metadata": {},
   "outputs": [],
   "source": [
    "plt.figure(figsize=(4, 4))\n",
    "(datos.groupby(['sucursales_provincia'], observed=True)['productos_precio_lista'].mean().sort_values().plot(kind='barh', colormap='Pastel2' , title='Precios por provincia'))\n",
    "plt.show()"
   ]
  },
  {
   "cell_type": "code",
   "execution_count": null,
   "id": "4ba7c3a7",
   "metadata": {},
   "outputs": [],
   "source": [
    "plt.figure(figsize=(4, 4))\n",
    "(datos.groupby(['sucursales_localidad'], observed=True)['productos_precio_lista'].mean().sort_values().plot(kind='barh', colormap='Pastel2' , title='Precios por localidad'))\n",
    "plt.yticks([])\n",
    "plt.show()"
   ]
  },
  {
   "cell_type": "markdown",
   "id": "e451179c",
   "metadata": {},
   "source": [
    "## Revisión de valores faltantes\n",
    "\n",
    "### Identificación de datos faltantes\n"
   ]
  },
  {
   "cell_type": "code",
   "execution_count": null,
   "id": "c1bce922",
   "metadata": {},
   "outputs": [],
   "source": [
    "datos.isna().mean().round(4)*100"
   ]
  },
  {
   "cell_type": "code",
   "execution_count": null,
   "id": "3741980f",
   "metadata": {},
   "outputs": [],
   "source": [
    "msno.matrix(datos, figsize=(20,8))\n"
   ]
  },
  {
   "cell_type": "code",
   "execution_count": null,
   "id": "4fa206d2",
   "metadata": {},
   "outputs": [],
   "source": [
    "msno.heatmap(datos, fontsize=15, figsize=(15,8))\n",
    "plt.title(\"Correlación de datos nulos\", fontsize=15)\n",
    "plt.show()\n"
   ]
  },
  {
   "cell_type": "code",
   "execution_count": null,
   "id": "809904df",
   "metadata": {},
   "outputs": [],
   "source": [
    "msno.dendrogram(datos, figsize=(15,8))\n",
    "plt.title(\"Dendograma de faltantes\", fontsize=20)\n",
    "plt.show()\n"
   ]
  },
  {
   "cell_type": "markdown",
   "id": "b4839584",
   "metadata": {},
   "source": [
    "\n",
    "### Analisis de faltantes\n",
    "\n",
    "#### *_promo2\n",
    "\n",
    "Veamos que pasa con `productos_precio_unitario_promo2` y `productos_leyenda_promo2`. \n",
    "En el PDF que adjunta este dataset lo describe a la promosion de tipo 2 como, una promosión especial; mientras que a la promoción 1 (`productos_precio_unitario_promo1` y `productos_leyenda_promo1`) la llama general. La clave para poder distingir la promoción de tipo y y la promición de tipo 2 es que:\n",
    "- La promoción de tipo 1 no contempla segmentación de consumidor (Jubilado, Estudiante, etc), mientras que la de tipo 2 si.\n",
    "- La promoción de tipo 1 no comtempla medios de pago o tarjeta de fidelizacion, mientras que la de tipo 2 si.\n",
    "\n",
    "Podemos concluir que (MNAR) la falta del dato depende de del dato en sí mismo, no es tan descabellado asumir que no se registraron promosiones de este tipo para los productos."
   ]
  },
  {
   "cell_type": "code",
   "execution_count": null,
   "id": "5a3570a8",
   "metadata": {},
   "outputs": [],
   "source": [
    "# Veamos que pasa con `sucursales_numero` y `sucursales_observaciones`\n",
    "\n",
    "# Obtenemos las filas que tienen algún problema.\n",
    "problematic_rows = datos[datos['sucursales_numero'].isna()]\n",
    "\n",
    "# Como tenemos los datos de-normalizados por producto, removemos los duplicados para poder quedarnos solo con las sucursales que tienen problemas\n",
    "problematic_rows.drop_duplicates(subset=['sucursales_latitud', 'sucursales_longitud'], keep='first', inplace=False)[['sucursales_numero', 'sucursales_calle', 'sucursales_observaciones', 'sucursales_localidad']]\n"
   ]
  },
  {
   "cell_type": "code",
   "execution_count": null,
   "id": "58d10ec5",
   "metadata": {},
   "outputs": [],
   "source": [
    "# Creamos una función para calcular el porcentaje de nulos en una columna, agrupando por una o más columnas\n",
    "def nulos_por_grupo(df, grupo_cols, target_col):\n",
    "    agrupar_nulos = (\n",
    "        df.groupby(grupo_cols, observed=True)[target_col]\n",
    "        .apply(lambda x: x.isnull().mean() * 100)\n",
    "        .reset_index(name=f'porcentaje_nulos_{target_col}')\n",
    "    )\n",
    "    return agrupar_nulos\n",
    "\n",
    "\n",
    "deduped = datos.drop_duplicates(subset=['sucursales_latitud', 'sucursales_longitud'], keep='first', inplace=False)\n",
    "\n",
    "nulos_barrio_por_localidad = nulos_por_grupo(deduped, 'sucursales_barrio', 'sucursales_localidad')\n",
    "\n",
    "print(\"Nulos en 'barrio' por localidad:\\n\", nulos_barrio_por_localidad, \"\\n\")\n",
    "\n"
   ]
  },
  {
   "cell_type": "markdown",
   "id": "e56306d3",
   "metadata": {},
   "source": [
    "#### sucursales_numero\n",
    "\n",
    "Hay alguna correlacion entre estos datos. Pero no es concluyente:\n",
    "- Para la fila 2, podemos observar que la interesección de la calle está en `sucursales_observaciones`.\n",
    "- Para la fila 3, podemos observar que el kilometro en el que se encuentra la sucursal está en `sucursales_observaciones`.\n",
    "- Para la fila 33, podemos observar que en `sucrusales_calle` se encuentra la intersección en la que está la sucursal.\n",
    "- Para la fila 187, podemos observar que la interesección de la calle está en `sucursales_observaciones`.\n",
    "\n",
    "Pareceria que estos dato no son tan confiables. Tal vez deberíamos usar directamente la geolocalización."
   ]
  },
  {
   "cell_type": "markdown",
   "id": "2ed6e749",
   "metadata": {},
   "source": [
    "## Detección de outliers (Joselo) "
   ]
  },
  {
   "cell_type": "markdown",
   "id": "7829ca54",
   "metadata": {},
   "source": [
    "### Exportación de dataset analizado (ADAPTAR)"
   ]
  },
  {
   "cell_type": "code",
   "execution_count": null,
   "id": "2569fb05",
   "metadata": {},
   "outputs": [],
   "source": [
    "# MODIFICAR EL CODIGO PARA NUJESTR DATASET\n",
    "\n",
    "import json\n",
    "\n",
    "# Detectar columnas categóricas\n",
    "categorical_cols = [col for col, dtype in carreras_24.dtypes.items() if str(dtype) == 'category']\n",
    "\n",
    "# Guardar los tipos como strings\n",
    "dtypes_str = {col: str(dtype) for col, dtype in carreras_24.dtypes.items()}\n",
    "\n",
    "# Guardar todo en un solo JSON\n",
    "info = {\n",
    "    \"dtypes\": dtypes_str,\n",
    "    \"categoricals\": categorical_cols\n",
    "}\n",
    "\n",
    "with open(\"../datasets/carreras_24_1_dtypes.json\", \"w\") as f:\n",
    "    json.dump(info, f)\n",
    "\n",
    "# exportar CSV\n",
    "carreras_24.to_csv('../datasets/carreras_24_1.csv', index=False)"
   ]
  },
  {
   "cell_type": "markdown",
   "id": "f39e5be9",
   "metadata": {},
   "source": [
    "---\n",
    "## Conclusiones"
   ]
  }
 ],
 "metadata": {
  "kernelspec": {
   "display_name": "add",
   "language": "python",
   "name": "python3"
  },
  "language_info": {
   "codemirror_mode": {
    "name": "ipython",
    "version": 3
   },
   "file_extension": ".py",
   "mimetype": "text/x-python",
   "name": "python",
   "nbconvert_exporter": "python",
   "pygments_lexer": "ipython3",
   "version": "3.12.3"
  }
 },
 "nbformat": 4,
 "nbformat_minor": 5
}
