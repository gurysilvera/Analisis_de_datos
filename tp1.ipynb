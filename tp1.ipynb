{
 "cells": [
  {
   "cell_type": "markdown",
   "id": "0872ba48",
   "metadata": {},
   "source": [
    "# Análisis de Datos\n",
    "## TP N 1\n",
    "----\n",
    "### Grupo N\n",
    "- Aviani, José\n",
    "- Díaz, José Luis\n",
    "- Silvera, Ricardo"
   ]
  },
  {
   "cell_type": "markdown",
   "id": "f12a8540",
   "metadata": {},
   "source": [
    "---\n",
    "## Introducción\n",
    "\n",
    "Para este trabajo elegimos el el dataset Precios Claros – Base SEPA, perteneciente al “Sistema Electrónico de Publicidad de Precios Argentinos (SEPA)\" (https://datos.gob.ar/), el cual reúne los precios de comercios minoristas (grandes establecimientos) de más de 70 mil productos en toda la Argentina. Particularmente para este trabajo, seleccionamos el set de datos del establecimiento **Carrefour** ya que era el de mayor tamaño, lo cual es deseable como entrada en un problema de aprendizaje de máquina.\n",
    "A continuación realizamos el análisis exploratorio de los datos y finalizamos con las conclusiones obtenidas del trabajo."
   ]
  },
  {
   "cell_type": "markdown",
   "id": "3c89b851",
   "metadata": {},
   "source": [
    "\n",
    "### Importación de librerías"
   ]
  },
  {
   "cell_type": "code",
   "execution_count": null,
   "id": "7bc199fa",
   "metadata": {},
   "outputs": [],
   "source": [
    "import pandas as pd\n",
    "import numpy as np\n",
    "import matplotlib.pyplot as plt\n",
    "import seaborn as sns\n"
   ]
  },
  {
   "cell_type": "markdown",
   "id": "7c23b325",
   "metadata": {},
   "source": [
    "## Análisis Exploratorio de los Datos"
   ]
  },
  {
   "cell_type": "markdown",
   "id": "0a695a18",
   "metadata": {},
   "source": [
    "### Carga y comprensión de los datos\n",
    "Los datos están separados en 3 archivos\n",
    "- comercio\n",
    "- sucursales\n",
    "- productos\n",
    "\n",
    "Cada uno contiene información específica sobre la entidad que indica su nombre. Vamos a investigar a cada uno para comprender la información que contienen y como está organizada y unificar todos los datos que nos interesen en un único dataframe. "
   ]
  },
  {
   "cell_type": "markdown",
   "id": "3aab2600",
   "metadata": {},
   "source": [
    "### Comercio"
   ]
  },
  {
   "cell_type": "code",
   "execution_count": null,
   "id": "ec7747ed",
   "metadata": {},
   "outputs": [],
   "source": [
    "comercio=pd.read_csv('./dataset/comercio.csv',delimiter='|')\n",
    "# La ultima linea del dataset es solamente la fecha de actualizacion, por eso la borramos\n",
    "comercio = comercio.iloc[:-1]\n",
    "comercio.columns"
   ]
  },
  {
   "cell_type": "markdown",
   "id": "931bc90a",
   "metadata": {},
   "source": [
    "El dataframe **comercio** contiene solo 3 filas con información, mucha de la cuales son repetitiva y constante para nuestro caso que solo estudiaremos un solo comercio.\n",
    "\n",
    "- `id_comercio`: Es el identificador de comercio, como trabajaremos solo con Carefour este data será constante en todo el dataset.\n",
    "\n",
    "- `id_bandera`: Es de tipo numérico,  identifica el tipo de comercio cuya discreción en texto está en el campo comercio_bandera_nombre \n",
    "- `icomercio_cui`: Es de tipo numérico, contiene el numero de CUIT del comercio, constante para nuestro caso. \n",
    "- `comercio_razon_social`:  Es de tipo texto, contiene el la Razón Social del comercio, es constante para nuestro caso.\n",
    "- `comercio_bandera_nombre`: Contiene la descripción del tipo de comercio (Hipermercado Carrefeour, Express, Market). es la descripción del valor numérico del campo id_bandera.\n",
    "- `comercio_ultima_actualizacion`: Contiene la fecha y hora de la actualización del archivo. Es constante para nuestro caso ya que trabajaremos con un único archivo.\n",
    "- `comercio_version_sepa`: Es el numero de versión que indica la versión del modelo de datos del paquete SEPA.\n",
    "\n",
    "\n",
    "Las unicas columnas que tienen sentido en este caso son `id_bandera` y `comercio_bandera_nombre`, que nos permitiran entender el dimensión del tipo de sucursal."
   ]
  },
  {
   "cell_type": "code",
   "execution_count": null,
   "id": "edd4c367",
   "metadata": {},
   "outputs": [],
   "source": [
    "comercio.head()"
   ]
  },
  {
   "cell_type": "code",
   "execution_count": null,
   "id": "ca27dbb8",
   "metadata": {},
   "outputs": [],
   "source": [
    "# Nos quedamos con las columnas relevantes\n",
    "comercio.drop(columns=['id_comercio', 'comercio_cuit', 'comercio_razon_social', 'comercio_bandera_url','comercio_ultima_actualizacion', 'comercio_version_sepa'], inplace=True)\n",
    "# Hacemos un cambio de tipo a entero. Ya que es un identificador, tiene mas sentido que un float.\n",
    "comercio['id_bandera'] = comercio['id_bandera'].astype(int)\n",
    "comercio.head()"
   ]
  },
  {
   "cell_type": "markdown",
   "id": "22c90103",
   "metadata": {},
   "source": [
    "### Sucursales"
   ]
  },
  {
   "cell_type": "code",
   "execution_count": null,
   "id": "a65edc97",
   "metadata": {},
   "outputs": [],
   "source": [
    "sucursales=pd.read_csv('./dataset/sucursales.csv',delimiter='|')\n",
    "# La ultima linea del dataset es solamente la fecha de actualizacion, por eso la borramos\n",
    "sucursales = sucursales.iloc[:-1]\n",
    "sucursales.info()"
   ]
  },
  {
   "cell_type": "code",
   "execution_count": null,
   "id": "d5e35335",
   "metadata": {},
   "outputs": [],
   "source": [
    "# Los horarios de atencion no parecerian tener alguna utilidad a priori \n",
    "sucursales.drop(\n",
    "    columns = [\n",
    "        'sucursales_lunes_horario_atencion',\n",
    "        'sucursales_martes_horario_atencion',\n",
    "        'sucursales_miercoles_horario_atencion',\n",
    "        'sucursales_jueves_horario_atencion',\n",
    "        'sucursales_viernes_horario_atencion', \n",
    "        'sucursales_sabado_horario_atencion',\n",
    "        'sucursales_domingo_horario_atencion',\n",
    "    ], inplace=True)"
   ]
  },
  {
   "cell_type": "code",
   "execution_count": null,
   "id": "41dc7477",
   "metadata": {},
   "outputs": [],
   "source": [
    "sucursales['id_comercio'].unique()"
   ]
  },
  {
   "cell_type": "code",
   "execution_count": null,
   "id": "017beb47",
   "metadata": {},
   "outputs": [],
   "source": [
    "# Como id_comercio hace referencia al id de \"comercio.csv\", al ser unico para todas las sucursales no aporta nada de valor\n",
    "sucursales.drop(columns = ['id_comercio'], inplace=True)\n"
   ]
  },
  {
   "cell_type": "code",
   "execution_count": null,
   "id": "60172029",
   "metadata": {},
   "outputs": [],
   "source": [
    "sns.countplot(data=sucursales, x='sucursales_tipo', color=\"lightblue\")"
   ]
  },
  {
   "cell_type": "markdown",
   "id": "13db3e9d",
   "metadata": {},
   "source": [
    "El campo `sucursales_tipo` es una categorización de la sucursal según las características de su línea de cajas, definido por la cantidad de líneas de caja:\n",
    "* Hipermercado: más de 15 cajas. \n",
    "* Supermercado: entre 4 y 15 cajas. \n",
    "* Autoservicio: entre 1 y 3 cajas"
   ]
  },
  {
   "cell_type": "code",
   "execution_count": null,
   "id": "cacada90",
   "metadata": {},
   "outputs": [],
   "source": [
    "# Tiene mas sentido que sea category\n",
    "sucursales['sucursales_tipo'] = sucursales['sucursales_tipo'].astype('category')\n",
    "\n",
    "# Podemos agregar el nombre de bandera a nuestras sucursales.\n",
    "sucursales['id_bandera'] = sucursales['id_bandera'].astype(int)\n",
    "sucursales = pd.merge(sucursales, comercio, on='id_bandera', how='outer')\n",
    "sucursales['id_sucursal'] = sucursales['id_sucursal'].astype(int)\n"
   ]
  },
  {
   "cell_type": "code",
   "execution_count": null,
   "id": "7611476b",
   "metadata": {},
   "outputs": [],
   "source": [
    "# Graficamos que cantidad de cajas suele haber en las distintas banderas\n",
    "relationship_table = pd.crosstab(sucursales['comercio_bandera_nombre'], sucursales['sucursales_tipo'])\n",
    "\n",
    "# Mejor orden para las columnas\n",
    "relationship_table = relationship_table[['Autoservicio', 'Supermercado', 'Hipermercado']]\n",
    "relationship_table.rename(\n",
    "    columns={\n",
    "        'Autoservicio': 'entre 1 y 3', \n",
    "        'Supermercado': 'entre 4 y 15', \n",
    "        'Hipermercado': 'mas de 15'\n",
    "    }, inplace=True)\n",
    "\n",
    "# Mejor orden para las filas\n",
    "relationship_table = relationship_table.reindex(['Express', 'Market', 'Hipermercado Carrefour' ])\n",
    "\n",
    "plt.figure(figsize=(8, 6))\n",
    "sns.heatmap(relationship_table, annot=True, fmt=\"d\", cmap=\"YlGnBu\", linewidths=.5)\n",
    "plt.title('Heatmap tipo de bandera vs tipo de sucursal')\n",
    "plt.xlabel('Cantidad de cajas')\n",
    "plt.ylabel('Bandera')\n",
    "plt.xticks(rotation=45, ha='right')\n",
    "plt.yticks(rotation=0)\n",
    "plt.tight_layout()\n"
   ]
  },
  {
   "cell_type": "code",
   "execution_count": null,
   "id": "8c0836e6",
   "metadata": {},
   "outputs": [],
   "source": [
    "suma_faltantes_barrios = sucursales['sucursales_barrio'].isna().sum()\n",
    "suma_faltantes_obs= sucursales['sucursales_observaciones'].isna().sum()\n",
    "\n",
    "total = len(sucursales) \n",
    "print(f\"Porcentaje de campos faltantes en sucursales_barrio: {(suma_faltantes_barrios/total)*100:.2f}%\")\n",
    "print(f\"Porcentaje de campos faltantes en sucursales_observaciones: {(suma_faltantes_obs/total)*100:.2f}%\")"
   ]
  },
  {
   "cell_type": "code",
   "execution_count": null,
   "id": "1f22ebd5",
   "metadata": {},
   "outputs": [],
   "source": [
    "sucursales['temp_numeric'] = pd.to_numeric(sucursales['sucursales_numero'], errors='coerce')\n",
    "problematic_rows = sucursales[sucursales['temp_numeric'].isna()]\n",
    "\n",
    "problematic_rows[['sucursales_numero', 'sucursales_calle', 'sucursales_observaciones', 'sucursales_localidad', 'sucursales_latitud', 'sucursales_longitud']]"
   ]
  },
  {
   "cell_type": "markdown",
   "id": "e62a3e29",
   "metadata": {},
   "source": [
    "Algunas verificaciones usando google maps:\n",
    "\n",
    "| Numero de fila | sucursal_calle + sucursales_observaciones | que dice google maps? |\n",
    "| --- | --- | --- |\n",
    "| 45 | Av. Avalos y lavalle | Av. Avalos 751 |\n",
    "| 65 | Av. Gaona y Graham Bell | No registra numero en google  |\n",
    "| 91 | Panamericana Ramal Pilar\tKm 54 | No registra numero en google |\n",
    "| 110 | Av. Díaz Vélez Esquina Medrano | Av. Díaz Vélez 3901 |\n",
    "\n",
    "\n"
   ]
  },
  {
   "cell_type": "code",
   "execution_count": null,
   "id": "e81441fd",
   "metadata": {},
   "outputs": [],
   "source": [
    "# Reflejando algunos cambios\n",
    "sucursales.loc[45, 'sucursales_numero'] = 751\n",
    "sucursales.loc[110, 'sucursales_numero'] = 3901\n",
    "sucursales.drop(columns = ['temp_numeric'], inplace=True)\n",
    "\n",
    "# Ya tenemos el nombre de la bandera, con eso es suficiente\n",
    "sucursales.drop(columns = ['id_bandera', 'sucursales_observaciones', 'sucursales_nombre'], inplace=True)\n",
    "\n"
   ]
  },
  {
   "cell_type": "code",
   "execution_count": null,
   "id": "52ad792c",
   "metadata": {},
   "outputs": [],
   "source": [
    "sucursales = sucursales.reindex([\n",
    "    'id_sucursal',\n",
    "\n",
    "    'sucursales_tipo',\n",
    "    'comercio_bandera_nombre',\n",
    "    \n",
    "    'sucursales_calle',\n",
    "    'sucursales_numero',\n",
    "    'sucursales_barrio',\n",
    "    'sucursales_localidad',\n",
    "    'sucursales_codigo_postal',\n",
    "    'sucursales_provincia',\n",
    "\n",
    "])\n",
    "\n",
    "sucursales.head(10)\n"
   ]
  },
  {
   "cell_type": "markdown",
   "id": "e3112292",
   "metadata": {},
   "source": [
    "El archivo contiene información sobre las 563 sucursales del comercio\n",
    "\n",
    "Nos quedamos con los valores de las sucursales que georeferencia el establecimiento y que nos dan una orden de magnitud de su tamaño:\n",
    "\n",
    "-- NOTA --::: Deberiamos borrar sucursales nombre???\n",
    "\n",
    "#### Identificadores\n",
    "- `id_sucursal`: Es de tipo numérico, es el identificador de la sucursal\n",
    "\n",
    "#### Tamaño\n",
    "- `sucursales_tipo`: Es de tipo texto, indica el tipo de establecimiento. Relacionado con la cantidad de cajas.\n",
    "- `comercio_bandera_nombre`:  'Hipermercado Carrefour', 'Express' o 'Market'\n",
    "\n",
    "#### Ubicación\n",
    "- `sucursales_calle`: Es de tipo texto, representa el nombre de la calle donde está ubicada la sucursal.\n",
    "- `sucursales_numero`: Es de tipo numérico o texto, indica el número de la dirección de la sucursal.\n",
    "- `sucursales_latitud`: Es de tipo numérico, representa la coordenada de latitud de la ubicación geográfica de la sucursal.\n",
    "- `sucursales_longitud`: Es de tipo numérico, representa la coordenada de longitud de la ubicación geográfica de la sucursal.\n",
    "- `sucursales_observaciones`: Es de tipo texto, contiene observaciones o notas adicionales sobre la sucursal.\n",
    "- `sucursales_codigo_postal`: Es de tipo texto o numérico, representa el código postal correspondiente a la dirección de la sucursal.\n",
    "- `sucursales_localidad`: Es de tipo texto, indica la localidad o ciudad donde se encuentra la sucursal.\n",
    "- `sucursales_barrio`: Es de tipo texto, indica el barrio donde se encuentra ubicada la sucursal.\n",
    "- `sucursales_provincia`: Es de tipo texto, contine un código que indica la provincia a la que pertenece la sucursal.\n",
    "\n"
   ]
  },
  {
   "cell_type": "markdown",
   "id": "ae8e3f18",
   "metadata": {},
   "source": [
    "### Productos"
   ]
  },
  {
   "cell_type": "code",
   "execution_count": null,
   "id": "3e466d66",
   "metadata": {},
   "outputs": [],
   "source": [
    "productos=pd.read_csv('./dataset/productos.csv.gz',delimiter='|',low_memory=False, compression='gzip')"
   ]
  },
  {
   "cell_type": "code",
   "execution_count": null,
   "id": "d6f723e5",
   "metadata": {},
   "outputs": [],
   "source": [
    "productos.info()"
   ]
  },
  {
   "cell_type": "code",
   "execution_count": null,
   "id": "48549355",
   "metadata": {},
   "outputs": [],
   "source": [
    "productos.head()"
   ]
  },
  {
   "cell_type": "markdown",
   "id": "0481831d",
   "metadata": {},
   "source": [
    "El archivo contiene 2.835.685 filas con información de los productos.\n",
    "\n",
    "#### Itentificadores\n",
    "\n",
    "-  `id_comercio ` : Es de tipo numérico, representa el identificador único del comercio al que pertenece el producto. Es constante para nuestro caso.\n",
    "\n",
    "-  `id_bandera `: Se refiere al tipo de comercio, y está relacionado con el campo  `id_bandera ` del archivo de comercio.\n",
    "-  `id_sucursal `: Es de tipo numérico, contiene el código de la sucursal específica dentro del comercio, se relaciona con el campo de mismo nommbre del archivo sucursales.\n",
    "-  `id_producto `: Es de tipo numérico, es el identificador único del producto para el comercio.\n",
    "-  `productos_ean `: Es de tipo numérico, representa el código EAN (European Article Number) del producto, utilizado como código de barras.\n",
    "-  `productos_descripcion `: Es de tipo texto, contiene la descripción comercial del producto.\n",
    "-  `productos_marca`: Es de tipo texto, indica el nombre de la marca comercial del producto.\n",
    "\n",
    "#### Unidades de medida y cantidades\n",
    "\n",
    "-  `productos_cantidad_presentacion `: Es de tipo numérico, indica la cantidad del producto contenida en la unidad.\n",
    "\n",
    "-  `productos_unidad_medida_presentacion `: Es de tipo texto, representa la unidad de medida de la presentación del producto.\n",
    "-  `productos_cantidad_referencia `: Es de tipo numérico, indica la cantidad de producto usada como base para calcular el precio de referencia.\n",
    "-  `productos_unidad_medida_referencia `: Es de tipo texto, representa la unidad de medida de la cantidad de referencia.\n",
    "\n",
    "#### Precios \n",
    "-  `productos_precio_lista` : Es de tipo numérico, representa el precio de lista del producto, es decir, el precio regular sin promociones.\n",
    "\n",
    "-  `productos_precio_referencia `: Es de tipo numérico, corresponde al precio de referencia.\n",
    "\n",
    "#### Promociones\n",
    "\n",
    "-  `productos_precio_unitario_promo1 `: Es de tipo numérico, indica el precio unitario del producto en la primera promoción (si existe).\n",
    "\n",
    "-  `productos_leyenda_promo1 `: Es de tipo texto, contiene la leyenda o descripción asociada a la primera promoción.\n",
    "-  `productos_precio_unitario_promo2 `: Es de tipo numérico, indica el precio unitario del producto en la segunda promoción (si existe).\n",
    "-  `productos_leyenda_promo2 `: Es de tipo texto, contiene la leyenda o descripción asociada a la segunda promoción."
   ]
  },
  {
   "cell_type": "code",
   "execution_count": null,
   "id": "f269bc7d",
   "metadata": {},
   "outputs": [],
   "source": [
    "#Se elimina la columna id_comercio\n",
    "productos.drop(columns='id_comercio')"
   ]
  },
  {
   "cell_type": "markdown",
   "id": "52fc54bf",
   "metadata": {},
   "source": [
    "Descartamos los datos del dataframe **comercio** ya que sus datos son constantes, excepto `id_bandera` y `comercio_bandera_nombre` que no son redundantes para nuestro estudio, ya que contamos con el campo `id_bandera` en el archivo sucursales.\n",
    "Unimos el dataframe de **productos** y **sucursales** para dejarlos en un solo objeto y poder analizar toda la información junta."
   ]
  },
  {
   "cell_type": "code",
   "execution_count": null,
   "id": "85e878a2",
   "metadata": {},
   "outputs": [],
   "source": [
    "datos= pd.merge(productos,sucursales,on='id_sucursal')\n",
    "datos.head()"
   ]
  },
  {
   "cell_type": "code",
   "execution_count": null,
   "id": "bdd4a8d0",
   "metadata": {},
   "outputs": [],
   "source": [
    "datos.columns"
   ]
  },
  {
   "cell_type": "code",
   "execution_count": null,
   "id": "0d96c222",
   "metadata": {},
   "outputs": [],
   "source": [
    "### Ajustando los tipos de datos\n",
    "datos['id_sucursal']=datos['id_sucursal'].astype('category')\n",
    "datos['productos_unidad_medida_presentacion']=datos['productos_unidad_medida_presentacion'].astype('category')\n",
    "datos['productos_unidad_medida_referencia']=datos['productos_unidad_medida_referencia'].astype('category')\n",
    "datos['productos_marca']=datos['productos_marca'].astype('category')\n",
    "datos['sucursales_tipo']=datos['sucursales_tipo'].astype('category')\n",
    "datos['sucursales_barrio']=datos['sucursales_barrio'].astype('category')\n",
    "datos['sucursales_codigo_postal']=datos['sucursales_codigo_postal'].astype('category')\n",
    "datos['sucursales_localidad']=datos['sucursales_localidad'].astype('category')\n",
    "datos['sucursales_provincia']=datos['sucursales_provincia'].astype('category')"
   ]
  },
  {
   "cell_type": "markdown",
   "id": "11b50783",
   "metadata": {},
   "source": [
    "### Variables categóricas: exploración\n",
    "\n"
   ]
  },
  {
   "cell_type": "code",
   "execution_count": null,
   "id": "cd502230",
   "metadata": {},
   "outputs": [],
   "source": [
    "#Gráficos de barras para variables categóricas"
   ]
  },
  {
   "cell_type": "markdown",
   "id": "f2bf8012",
   "metadata": {},
   "source": [
    "**id_sucursal**"
   ]
  },
  {
   "cell_type": "markdown",
   "id": "f0a1f654",
   "metadata": {},
   "source": [
    "**productos_unidad_medida_presentacion**"
   ]
  },
  {
   "cell_type": "markdown",
   "id": "fdc7e1ba",
   "metadata": {},
   "source": [
    "**productos_marca**"
   ]
  },
  {
   "cell_type": "markdown",
   "id": "44e3506e",
   "metadata": {},
   "source": [
    "**sucursales_tipo**"
   ]
  },
  {
   "cell_type": "markdown",
   "id": "8c8bece3",
   "metadata": {},
   "source": [
    "**sucursales_barrio**"
   ]
  },
  {
   "cell_type": "markdown",
   "id": "5e253c32",
   "metadata": {},
   "source": [
    "**sucursales_codigo_postal**"
   ]
  },
  {
   "cell_type": "markdown",
   "id": "b1dac812",
   "metadata": {},
   "source": [
    "**sucursales_localidad**"
   ]
  },
  {
   "cell_type": "markdown",
   "id": "5af1fc9d",
   "metadata": {},
   "source": [
    "**sucursales_provincia**"
   ]
  },
  {
   "cell_type": "code",
   "execution_count": null,
   "id": "fd5ee83d",
   "metadata": {},
   "outputs": [],
   "source": [
    "datos.info()"
   ]
  },
  {
   "cell_type": "markdown",
   "id": "a6f12a48",
   "metadata": {},
   "source": [
    "### Variables numéricas: estadística descriptiva"
   ]
  },
  {
   "cell_type": "code",
   "execution_count": null,
   "id": "21c4b9bf",
   "metadata": {},
   "outputs": [],
   "source": [
    "#Para cada variable de abajo  \n",
    "# Histogramas de variables numéricas\n",
    "# Boxplots para detectar outliers"
   ]
  },
  {
   "cell_type": "markdown",
   "id": "02dee938",
   "metadata": {},
   "source": [
    "**id_sucursal**"
   ]
  },
  {
   "cell_type": "markdown",
   "id": "7985c061",
   "metadata": {},
   "source": [
    "**id_producto**"
   ]
  },
  {
   "cell_type": "markdown",
   "id": "1da6918f",
   "metadata": {},
   "source": [
    "**productos_ean**"
   ]
  },
  {
   "cell_type": "markdown",
   "id": "f73d9a7c",
   "metadata": {},
   "source": [
    "**productos_cantidad_presentacion**"
   ]
  },
  {
   "cell_type": "markdown",
   "id": "8edc2345",
   "metadata": {},
   "source": [
    "**productos_precio_lista**"
   ]
  },
  {
   "cell_type": "markdown",
   "id": "ef93598d",
   "metadata": {},
   "source": [
    "**productos_cantidad_presentacion**"
   ]
  },
  {
   "cell_type": "markdown",
   "id": "99d5c512",
   "metadata": {},
   "source": [
    "**productos_precio_referencia**"
   ]
  },
  {
   "cell_type": "markdown",
   "id": "9f10b8a4",
   "metadata": {},
   "source": [
    "**productos_cantidad_presentacion**"
   ]
  },
  {
   "cell_type": "markdown",
   "id": "5e2456dd",
   "metadata": {},
   "source": [
    "**productos_cantidad_presentacion**"
   ]
  },
  {
   "cell_type": "markdown",
   "id": "b3accb06",
   "metadata": {},
   "source": [
    "**productos_cantidad_presentacion**"
   ]
  },
  {
   "cell_type": "markdown",
   "id": "366fda3a",
   "metadata": {},
   "source": [
    "### Visualizaciones entre pares de variables\n",
    "Investigamos relación entre variables para descubiri dependencias o relación en ellas. Principalmente la variable precio_lista con el resto que es el target de nuestro problema\n",
    "Matriz de correlación (df.corr())\n",
    "\n",
    "Gráficos de dispersión (sns.scatterplot())\n",
    "\n",
    "Agrupaciones y comparaciones por categorías (groupby())"
   ]
  },
  {
   "cell_type": "markdown",
   "id": "e451179c",
   "metadata": {},
   "source": [
    "### Revisión de valores faltantes \n",
    "\n"
   ]
  },
  {
   "cell_type": "code",
   "execution_count": null,
   "id": "4fa206d2",
   "metadata": {},
   "outputs": [],
   "source": [
    "#Analizara para las columnas relevantes lso datos faltantes"
   ]
  },
  {
   "cell_type": "markdown",
   "id": "2ed6e749",
   "metadata": {},
   "source": [
    "### Detección de outliers "
   ]
  },
  {
   "cell_type": "markdown",
   "id": "f39e5be9",
   "metadata": {},
   "source": [
    "---\n",
    "## Conclusiones"
   ]
  }
 ],
 "metadata": {
  "kernelspec": {
   "display_name": "add",
   "language": "python",
   "name": "python3"
  },
  "language_info": {
   "codemirror_mode": {
    "name": "ipython",
    "version": 3
   },
   "file_extension": ".py",
   "mimetype": "text/x-python",
   "name": "python",
   "nbconvert_exporter": "python",
   "pygments_lexer": "ipython3",
   "version": "3.12.3"
  }
 },
 "nbformat": 4,
 "nbformat_minor": 5
}
