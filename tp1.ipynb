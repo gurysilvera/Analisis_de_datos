{
 "cells": [
  {
   "cell_type": "markdown",
   "id": "0872ba48",
   "metadata": {},
   "source": [
    "# Análisis de Datos\n",
    "## TP N 1\n",
    "----\n",
    "### Grupo N° 7\n",
    "- Aviani, José\n",
    "- Díaz, José Luis\n",
    "- Silvera, Ricardo"
   ]
  },
  {
   "cell_type": "markdown",
   "id": "302b7401",
   "metadata": {},
   "source": [
    "---\n",
    "## Introducción"
   ]
  },
  {
   "cell_type": "markdown",
   "id": "f12a8540",
   "metadata": {},
   "source": [
    "Para este trabajo elegimos el el dataset Precios Claros – Base SEPA, perteneciente al “Sistema Electrónico de Publicidad de Precios Argentinos (SEPA)\" (https://datos.gob.ar/), el cual reúne los precios de comercios minoristas (grandes establecimientos) de más de 70 mil productos en toda la Argentina. Particularmente para este trabajo, seleccionamos el set de datos del establecimiento **Carrefour** ya que era el de mayor tamaño, lo cual es deseable como entrada en un problema de aprendizaje de máquina.\n",
    "A continuación realizamos el análisis exploratorio de los datos y finalizamos con las conclusiones obtenidas del trabajo."
   ]
  },
  {
   "cell_type": "markdown",
   "id": "3c89b851",
   "metadata": {},
   "source": [
    "\n",
    "### Importación de librerías"
   ]
  },
  {
   "cell_type": "code",
   "execution_count": null,
   "id": "7bc199fa",
   "metadata": {},
   "outputs": [],
   "source": [
    "import pandas as pd\n",
    "import numpy as np\n",
    "import matplotlib.pyplot as plt\n",
    "import seaborn as sns"
   ]
  },
  {
   "cell_type": "markdown",
   "id": "7c23b325",
   "metadata": {},
   "source": [
    "## Análisis Exploratorio de los Datos"
   ]
  },
  {
   "cell_type": "markdown",
   "id": "0a695a18",
   "metadata": {},
   "source": [
    "### Carga y comprensión de los datos\n"
   ]
  },
  {
   "cell_type": "markdown",
   "id": "ec7eedbe",
   "metadata": {},
   "source": [
    "Los datos están separados en 3 archivos\n",
    "- comercio\n",
    "- sucursales\n",
    "- productos\n",
    "\n",
    "Cada uno contiene información específica sobre la entidad que indica su nombre. Vamos a investigar a cada uno para comprender la información que contienen y como está organizada y unificar todos los datos que nos interesen en un único dataframe. "
   ]
  },
  {
   "cell_type": "code",
   "execution_count": null,
   "id": "ec7747ed",
   "metadata": {},
   "outputs": [],
   "source": [
    "#Comercio\n",
    "comercio=pd.read_csv('./dataset/comercio.csv',delimiter='|')\n",
    "#Sucursales\n",
    "sucursales=pd.read_csv('./dataset/sucursales.csv',delimiter='|')\n",
    "#Productos\n",
    "productos=pd.read_csv('./dataset/productos.csv',delimiter='|',low_memory=False)\n",
    "\n",
    "# La ultima linea del achivo es solamente la fecha de actualizacion, por eso la borramos\n",
    "comercio = comercio.iloc[:-1]\n",
    "sucursales = sucursales.iloc[:-1]\n",
    "productos = productos.iloc[:-1]\n"
   ]
  },
  {
   "cell_type": "code",
   "execution_count": null,
   "id": "9974c10b",
   "metadata": {},
   "outputs": [],
   "source": [
    "productos.info()"
   ]
  },
  {
   "cell_type": "code",
   "execution_count": null,
   "id": "0a8d7437",
   "metadata": {},
   "outputs": [],
   "source": [
    "#Visualizamos las columnas de cada Dataframe\n",
    "print(\"Columnas de Comercio:\\n\",comercio.columns)\n",
    "print(\"Columnas de Sucursales:\\n\",sucursales.columns)\n",
    "print(\"Columnas de Productos:\\n\",productos.columns)"
   ]
  },
  {
   "cell_type": "markdown",
   "id": "5d48d6a4",
   "metadata": {},
   "source": [
    "Unimos los 3 dataframe en uno solo"
   ]
  },
  {
   "cell_type": "code",
   "execution_count": null,
   "id": "8a811abc",
   "metadata": {},
   "outputs": [],
   "source": [
    "comercio=comercio[['id_bandera','comercio_bandera_nombre']]\n",
    "datos=pd.merge(productos,pd.merge(comercio,sucursales,on=\"id_bandera\"),on='id_sucursal')"
   ]
  },
  {
   "cell_type": "markdown",
   "id": "89100a8e",
   "metadata": {},
   "source": [
    "Eliminamos las columnas que no son de interes de análisis"
   ]
  },
  {
   "cell_type": "code",
   "execution_count": null,
   "id": "dbfc9a7d",
   "metadata": {},
   "outputs": [],
   "source": [
    "datos.columns"
   ]
  },
  {
   "cell_type": "code",
   "execution_count": null,
   "id": "189661a9",
   "metadata": {},
   "outputs": [],
   "source": [
    "#Eliminar columnas\n",
    "datos=datos.drop(columns=['id_comercio_x','id_comercio_y','id_bandera_x','id_bandera_y',\n",
    "        'sucursales_lunes_horario_atencion',\n",
    "        'sucursales_martes_horario_atencion',\n",
    "        'sucursales_miercoles_horario_atencion',\n",
    "        'sucursales_jueves_horario_atencion',\n",
    "        'sucursales_viernes_horario_atencion',\n",
    "        'sucursales_sabado_horario_atencion',\n",
    "        'sucursales_domingo_horario_atencion'])\n",
    "datos.head()\n"
   ]
  },
  {
   "cell_type": "code",
   "execution_count": null,
   "id": "20123987",
   "metadata": {},
   "outputs": [],
   "source": [
    "datos.info()"
   ]
  },
  {
   "cell_type": "markdown",
   "id": "8d139d03",
   "metadata": {},
   "source": [
    "### Descripción de las columnas"
   ]
  },
  {
   "cell_type": "markdown",
   "id": "0ef60480",
   "metadata": {},
   "source": [
    "El archivo contiene 2.835.684 filas con información de los productos y sucursales.\n",
    "\n",
    "#### Itentificadores\n",
    "\n",
    "-  `id_comercio ` : Es de tipo numérico, representa el identificador único del comercio al que pertenece el producto. Es constante para nuestro caso.\n",
    "\n",
    "-  `id_bandera `: Se refiere al tipo de comercio, y está relacionado con el campo  `id_bandera ` del archivo de comercio.\n",
    "-  `id_sucursal `: Es de tipo numérico, contiene el código de la sucursal específica dentro del comercio, se relaciona con el campo de mismo nommbre del archivo sucursales.\n",
    "-  `id_producto `: Es de tipo numérico, es el identificador único del producto para el comercio.\n",
    "-  `productos_ean `: Es de tipo numérico, representa el código EAN (European Article Number) del producto, utilizado como código de barras.\n",
    "-  `productos_descripcion `: Es de tipo texto, contiene la descripción comercial del producto.\n",
    "-  `productos_marca`: Es de tipo texto, indica el nombre de la marca comercial del producto.\n",
    "\n",
    "#### Sucursal\n",
    "- `id_sucursal`: Es de tipo numérico, es el identificador de la sucursal\n",
    "\n",
    "- `sucursales_tipo`: Es de tipo texto, indica el tipo de establecimiento. Relacionado con la cantidad de cajas.\n",
    "- `comercio_bandera_nombre`:  'Hipermercado Carrefour', 'Express' o 'Market'\n",
    "- `sucursales_calle`: Es de tipo texto, representa el nombre de la calle donde está ubicada la sucursal.\n",
    "- `sucursales_numero`: Es de tipo numérico o texto, indica el número de la dirección de la sucursal.\n",
    "- `sucursales_latitud`: Es de tipo numérico, representa la coordenada de latitud de la ubicación geográfica de la sucursal.\n",
    "- `sucursales_longitud`: Es de tipo numérico, representa la coordenada de longitud de la ubicación geográfica de la sucursal.\n",
    "- `sucursales_observaciones`: Es de tipo texto, contiene observaciones o notas adicionales sobre la sucursal.\n",
    "- `sucursales_codigo_postal`: Es de tipo texto o numérico, representa el código postal correspondiente a la dirección de la sucursal.\n",
    "- `sucursales_localidad`: Es de tipo texto, indica la localidad o ciudad donde se encuentra la sucursal.\n",
    "- `sucursales_barrio`: Es de tipo texto, indica el barrio donde se encuentra ubicada la sucursal.\n",
    "- `sucursales_provincia`: Es de tipo texto, contine un código que indica la provincia a la que pertenece la sucursal.\n",
    "\n",
    "#### Unidades de medida y cantidades\n",
    "\n",
    "-  `productos_cantidad_presentacion `: Es de tipo numérico, indica la cantidad del producto contenida en la unidad.\n",
    "\n",
    "-  `productos_unidad_medida_presentacion `: Es de tipo texto, representa la unidad de medida de la presentación del producto.\n",
    "-  `productos_cantidad_referencia `: Es de tipo numérico, indica la cantidad de producto usada como base para calcular el precio de referencia.\n",
    "-  `productos_unidad_medida_referencia `: Es de tipo texto, representa la unidad de medida de la cantidad de referencia.\n",
    "\n",
    "#### Precios \n",
    "-  `productos_precio_lista` : Es de tipo numérico, representa el precio de lista del producto, es decir, el precio regular sin promociones.\n",
    "\n",
    "-  `productos_precio_referencia `: Es de tipo numérico, corresponde al precio de referencia.\n",
    "\n",
    "#### Promociones\n",
    "\n",
    "-  `productos_precio_unitario_promo1 `: Es de tipo numérico, indica el precio unitario del producto en la primera promoción (si existe).\n",
    "\n",
    "-  `productos_leyenda_promo1 `: Es de tipo texto, contiene la leyenda o descripción asociada a la primera promoción.\n",
    "-  `productos_precio_unitario_promo2 `: Es de tipo numérico, indica el precio unitario del producto en la segunda promoción (si existe).\n",
    "-  `productos_leyenda_promo2 `: Es de tipo texto, contiene la leyenda o descripción asociada a la segunda promoción."
   ]
  },
  {
   "cell_type": "markdown",
   "id": "931bc90a",
   "metadata": {},
   "source": [
    "El dataframe **comercio** contiene solo 3 filas con información, mucha de la cuales son repetitiva y constante para nuestro caso que solo estudiaremos un solo comercio.\n",
    "\n",
    "- `id_comercio`: Es el identificador de comercio, como trabajaremos solo con Carefour este data será constante en todo el dataset.\n",
    "\n",
    "- `id_bandera`: Es de tipo numérico,  identifica el tipo de comercio cuya discreción en texto está en el campo comercio_bandera_nombre \n",
    "- `icomercio_cui`: Es de tipo numérico, contiene el numero de CUIT del comercio, constante para nuestro caso. \n",
    "- `comercio_razon_social`:  Es de tipo texto, contiene el la Razón Social del comercio, es constante para nuestro caso.\n",
    "- `comercio_bandera_nombre`: Contiene la descripción del tipo de comercio (Hipermercado Carrefeour, Express, Market). es la descripción del valor numérico del campo id_bandera.\n",
    "- `comercio_ultima_actualizacion`: Contiene la fecha y hora de la actualización del archivo. Es constante para nuestro caso ya que trabajaremos con un único archivo.\n",
    "- `comercio_version_sepa`: Es el numero de versión que indica la versión del modelo de datos del paquete SEPA.\n",
    "\n",
    "\n",
    "Las unicas columnas que tienen sentido en este caso son `id_bandera` y `comercio_bandera_nombre`, que nos permitiran entender el dimensión del tipo de sucursal."
   ]
  },
  {
   "cell_type": "markdown",
   "id": "a3508331",
   "metadata": {},
   "source": [
    "### Vista general del dataset (Ricardo)"
   ]
  },
  {
   "cell_type": "markdown",
   "id": "4f71f415",
   "metadata": {},
   "source": [
    "### Ajustes de tipos de datos (Ricardo)"
   ]
  },
  {
   "cell_type": "code",
   "execution_count": null,
   "id": "0d96c222",
   "metadata": {},
   "outputs": [],
   "source": [
    "### Ajustando los tipos de datos\n",
    "datos['id_sucursal']=datos['id_sucursal'].astype('category')\n",
    "datos['productos_unidad_medida_presentacion']=datos['productos_unidad_medida_presentacion'].astype('category')\n",
    "datos['productos_unidad_medida_referencia']=datos['productos_unidad_medida_referencia'].astype('category')\n",
    "datos['productos_marca']=datos['productos_marca'].astype('category')\n",
    "datos['sucursales_tipo']=datos['sucursales_tipo'].astype('category')\n",
    "datos['sucursales_barrio']=datos['sucursales_barrio'].astype('category')\n",
    "datos['sucursales_codigo_postal']=datos['sucursales_codigo_postal'].astype('category')\n",
    "datos['sucursales_localidad']=datos['sucursales_localidad'].astype('category')\n",
    "datos['sucursales_provincia']=datos['sucursales_provincia'].astype('category')"
   ]
  },
  {
   "cell_type": "markdown",
   "id": "11b50783",
   "metadata": {},
   "source": [
    "### Variables categóricas: exploración (José)\n",
    "\n"
   ]
  },
  {
   "cell_type": "code",
   "execution_count": null,
   "id": "cd502230",
   "metadata": {},
   "outputs": [],
   "source": [
    "#Gráficos de barras para variables categóricas"
   ]
  },
  {
   "cell_type": "markdown",
   "id": "a6f12a48",
   "metadata": {},
   "source": [
    "### Variables numéricas: estadística descriptiva (Ricardo)"
   ]
  },
  {
   "cell_type": "code",
   "execution_count": null,
   "id": "21c4b9bf",
   "metadata": {},
   "outputs": [],
   "source": [
    "#Para cada variable de abajo  \n",
    "# Histogramas de variables numéricas\n",
    "# Boxplots para detectar outliers"
   ]
  },
  {
   "cell_type": "markdown",
   "id": "366fda3a",
   "metadata": {},
   "source": [
    "### Visualizaciones entre pares de variables (José)\n"
   ]
  },
  {
   "cell_type": "markdown",
   "id": "ab3315f3",
   "metadata": {},
   "source": [
    "Investigamos relación entre variables para descubiri dependencias o relación en ellas. Principalmente la variable precio_lista con el resto que es el target de nuestro problema\n",
    "Matriz de correlación (df.corr())\n",
    "\n",
    "Gráficos de dispersión (sns.scatterplot())\n",
    "\n",
    "Agrupaciones y comparaciones por categorías (groupby())"
   ]
  },
  {
   "cell_type": "markdown",
   "id": "e451179c",
   "metadata": {},
   "source": [
    "## Revisión de valores faltantes (Joselo) \n",
    "\n"
   ]
  },
  {
   "cell_type": "code",
   "execution_count": null,
   "id": "4fa206d2",
   "metadata": {},
   "outputs": [],
   "source": [
    "#Analizara para las columnas relevantes los datos faltantes"
   ]
  },
  {
   "cell_type": "markdown",
   "id": "2ed6e749",
   "metadata": {},
   "source": [
    "## Detección de outliers (Joselo) "
   ]
  },
  {
   "cell_type": "markdown",
   "id": "7829ca54",
   "metadata": {},
   "source": [
    "### Exportación de dataset analizado (ADAPTAR)"
   ]
  },
  {
   "cell_type": "code",
   "execution_count": null,
   "id": "2569fb05",
   "metadata": {},
   "outputs": [],
   "source": [
    "# MODIFICAR EL CODIGO PARA NUJESTR DATASET\n",
    "\n",
    "import json\n",
    "\n",
    "# Detectar columnas categóricas\n",
    "categorical_cols = [col for col, dtype in carreras_24.dtypes.items() if str(dtype) == 'category']\n",
    "\n",
    "# Guardar los tipos como strings\n",
    "dtypes_str = {col: str(dtype) for col, dtype in carreras_24.dtypes.items()}\n",
    "\n",
    "# Guardar todo en un solo JSON\n",
    "info = {\n",
    "    \"dtypes\": dtypes_str,\n",
    "    \"categoricals\": categorical_cols\n",
    "}\n",
    "\n",
    "with open(\"../datasets/carreras_24_1_dtypes.json\", \"w\") as f:\n",
    "    json.dump(info, f)\n",
    "\n",
    "# exportar CSV\n",
    "carreras_24.to_csv('../datasets/carreras_24_1.csv', index=False)"
   ]
  },
  {
   "cell_type": "markdown",
   "id": "f39e5be9",
   "metadata": {},
   "source": [
    "---\n",
    "## Conclusiones"
   ]
  }
 ],
 "metadata": {
  "kernelspec": {
   "display_name": "add",
   "language": "python",
   "name": "python3"
  },
  "language_info": {
   "codemirror_mode": {
    "name": "ipython",
    "version": 3
   },
   "file_extension": ".py",
   "mimetype": "text/x-python",
   "name": "python",
   "nbconvert_exporter": "python",
   "pygments_lexer": "ipython3",
   "version": "3.12.3"
  }
 },
 "nbformat": 4,
 "nbformat_minor": 5
}
